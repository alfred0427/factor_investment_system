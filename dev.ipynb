{
 "cells": [
  {
   "cell_type": "code",
   "execution_count": 114,
   "id": "9bc53a2a",
   "metadata": {},
   "outputs": [],
   "source": [
    "import pandas as pd\n",
    "import numpy as np\n",
    "\n",
    "import re\n",
    "\n",
    "import importlib\n",
    "import clean_data\n",
    "\n",
    "\n",
    "importlib.reload(clean_data)\n",
    "from clean_data import clean_mktcap, clean_price"
   ]
  },
  {
   "cell_type": "markdown",
   "id": "5db5070a",
   "metadata": {},
   "source": [
    "## 資料匯入"
   ]
  },
  {
   "cell_type": "code",
   "execution_count": 2,
   "id": "e143252c",
   "metadata": {},
   "outputs": [],
   "source": [
    "p = pd.read_excel(\"因子資料全.xlsx\",sheet_name=\"收盤價\")"
   ]
  },
  {
   "cell_type": "code",
   "execution_count": 3,
   "id": "ec159d69",
   "metadata": {},
   "outputs": [],
   "source": [
    "mk = pd.read_excel(\"因子資料全.xlsx\",sheet_name=\"市值\")\n"
   ]
  },
  {
   "cell_type": "code",
   "execution_count": null,
   "id": "17492984",
   "metadata": {},
   "outputs": [],
   "source": [
    "pe = pd.read_excel(\"因子資料全.xlsx\",sheet_name=\"低本益比\")"
   ]
  },
  {
   "cell_type": "code",
   "execution_count": 5,
   "id": "768b64b5",
   "metadata": {},
   "outputs": [],
   "source": [
    "pb = pd.read_excel(\"因子資料全.xlsx\",sheet_name=\"低PB\")"
   ]
  },
  {
   "cell_type": "code",
   "execution_count": 6,
   "id": "4e380160",
   "metadata": {},
   "outputs": [],
   "source": [
    "y = pd.read_excel(\"因子資料全.xlsx\",sheet_name=\"殖利率\")"
   ]
  },
  {
   "cell_type": "code",
   "execution_count": 7,
   "id": "7ee7665c",
   "metadata": {},
   "outputs": [],
   "source": [
    "b = pd.read_excel(\"因子資料全.xlsx\",sheet_name=\"Beta\")"
   ]
  },
  {
   "cell_type": "code",
   "execution_count": 8,
   "id": "a8b20c8c",
   "metadata": {},
   "outputs": [],
   "source": [
    "earning = pd.read_excel(\"因子資料全.xlsx\",sheet_name=\"月營收\")"
   ]
  },
  {
   "cell_type": "code",
   "execution_count": 9,
   "id": "b613825a",
   "metadata": {},
   "outputs": [],
   "source": [
    "gross_margin = pd.read_excel(\"因子資料全.xlsx\",sheet_name=\"毛利率\")"
   ]
  },
  {
   "cell_type": "code",
   "execution_count": 10,
   "id": "a3d533e0",
   "metadata": {},
   "outputs": [],
   "source": [
    "rev_margin = pd.read_excel(\"因子資料全.xlsx\",sheet_name=\"營利率\")"
   ]
  },
  {
   "cell_type": "code",
   "execution_count": null,
   "id": "16e88a18",
   "metadata": {},
   "outputs": [],
   "source": [
    "finance_corp = pd.read_excel(\"因子資料全.xlsx\",sheet_name=\"金融保險（含下市櫃）\")"
   ]
  },
  {
   "cell_type": "markdown",
   "id": "a9255391",
   "metadata": {},
   "source": [
    "## 資料清洗"
   ]
  },
  {
   "cell_type": "code",
   "execution_count": null,
   "id": "3ac1fcc1",
   "metadata": {},
   "outputs": [
    {
     "name": "stderr",
     "output_type": "stream",
     "text": [
      "c:\\Users\\USER\\anaconda3\\Lib\\site-packages\\pandas\\core\\indexes\\base.py:7588: FutureWarning:\n",
      "\n",
      "Dtype inference on a pandas object (Series, Index, ExtensionArray) is deprecated. The Index constructor will keep the original dtype in the future. Call `infer_objects` on the result to get the old behavior.\n",
      "\n",
      "C:\\Users\\USER\\AppData\\Local\\Temp\\ipykernel_20704\\254891627.py:12: FutureWarning:\n",
      "\n",
      "The default fill_method='pad' in DataFrame.pct_change is deprecated and will be removed in a future version. Either fill in any non-leading NA values prior to calling pct_change or specify 'fill_method=None' to not fill NA values.\n",
      "\n"
     ]
    }
   ],
   "source": [
    "price = clean_price(p)\n",
    "mktcap = clean_mktcap(mk)\n",
    "pe_ratio = clean_mktcap(pe)\n",
    "pb_ratio = clean_mktcap(pb)\n",
    "yd = clean_mktcap(y)\n",
    "beta = clean_mktcap(b)\n",
    "earn_yoy = clean_mktcap(earning)\n",
    "gross = clean_mktcap(gross_margin)\n",
    "rev = clean_mktcap(rev_margin)\n",
    "returns = price.pct_change() #returns矩陣"
   ]
  },
  {
   "cell_type": "markdown",
   "id": "6e5b2c9b",
   "metadata": {},
   "source": [
    "## 產出Alpha"
   ]
  },
  {
   "cell_type": "code",
   "execution_count": null,
   "id": "98ebc07c",
   "metadata": {},
   "outputs": [],
   "source": [
    "import importlib\n",
    "import alpha\n",
    "import pe\n",
    "import yeild\n",
    "import revenue_growth\n",
    "\n",
    "importlib.reload(alpha)\n",
    "importlib.reload(pe)\n",
    "importlib.reload(yeild)\n",
    "importlib.reload(revenue_growth)\n",
    "\n",
    "from alpha import build_sample_pool, build_sample_pool_ex_fin,momentum_signal , pool_to_alpha \n",
    "from pe import pe_low_signal\n",
    "from yeild import dy_high_signal,yoy_high_signal\n",
    "from revenue_growth import margin_growth_signal #,to_quarter_last, months_for_quarter\n",
    "\n"
   ]
  },
  {
   "cell_type": "code",
   "execution_count": 85,
   "id": "bad8cd4a",
   "metadata": {},
   "outputs": [],
   "source": [
    "top200 = build_sample_pool(mktcap)\n",
    "top200_nofin = build_sample_pool_ex_fin(mktcap,finance_corp)\n",
    "top200_alpha = pool_to_alpha(returns, top200)"
   ]
  },
  {
   "cell_type": "code",
   "execution_count": 107,
   "id": "35f0b336",
   "metadata": {},
   "outputs": [],
   "source": [
    "momentum_01_alpha = momentum_signal(returns, top200,lookback_months=1)\n",
    "momentum_03_alpha = momentum_signal(returns, top200,lookback_months=3)\n",
    "momentum_06_alpha = momentum_signal(returns, top200,lookback_months=6)\n",
    "\n",
    "pe_low_01_alpha = pe_low_signal(returns, pe_ratio, top200_nofin)\n",
    "\n",
    "pb_low_01_alpha = pe_low_signal(returns, pb_ratio, top200_nofin)\n",
    "\n",
    "high_yield_alpha = dy_high_signal(returns, yd, top200,require_positive=False)\n",
    "\n",
    "low_vol_alpha =  pe_low_signal(returns, beta, top200, require_positive=True)\n",
    "\n",
    "high_yoy_alpha = yoy_high_signal(returns, earn_yoy,top200,yoy_cap_ratio=200,      # 200%\n",
    "    yoy_is_percent=True,    # 你的數據是百分比\n",
    "    require_positive=False  # 依你的條件，不強制 >0\n",
    ")"
   ]
  },
  {
   "cell_type": "code",
   "execution_count": 108,
   "id": "fb730a9f",
   "metadata": {},
   "outputs": [],
   "source": [
    "sig_margin = margin_growth_signal(\n",
    "    returns=returns, \n",
    "    gross=gross, \n",
    "    operating=rev, \n",
    "    mktcap_pool=top200_nofin\n",
    ")"
   ]
  },
  {
   "cell_type": "code",
   "execution_count": 109,
   "id": "71c66dfa",
   "metadata": {},
   "outputs": [],
   "source": [
    "def alp_return(alpha: pd.DataFrame, returns: pd.DataFrame) -> pd.Series:\n",
    "    \"\"\"\n",
    "    給定 alpha (0/1 矩陣) 和 returns，計算每日投組報酬。\n",
    "    \"\"\"\n",
    "    weighted_ret = (alpha * returns).sum(axis=1)\n",
    "    counts = alpha.sum(axis=1)\n",
    "    return (weighted_ret / counts).dropna()"
   ]
  },
  {
   "cell_type": "markdown",
   "id": "f6243a90",
   "metadata": {},
   "source": [
    "######"
   ]
  },
  {
   "cell_type": "markdown",
   "id": "11a95ef0",
   "metadata": {},
   "source": [
    "# 2003-2025績效表現分析"
   ]
  },
  {
   "cell_type": "code",
   "execution_count": 110,
   "id": "f68bbf8e",
   "metadata": {},
   "outputs": [
    {
     "data": {
      "image/png": "[encoded data removed]",
      "text/plain": [
       "<Figure size 1000x600 with 1 Axes>"
      ]
     },
     "metadata": {},
     "output_type": "display_data"
    }
   ],
   "source": [
    "import matplotlib.pyplot as plt\n",
    "\n",
    "def plot_cum_returns(*series, labels=None, title=\"Cumulative Returns (Compounded)\"):\n",
    "    \"\"\"\n",
    "    輸入一個或多個 return series，畫複利累積報酬\n",
    "    series: 每個是 pd.Series (index=日期, values=日報酬)\n",
    "    labels: 對應的名稱\n",
    "    \n",
    "    \"\"\"\n",
    "    plt.figure(figsize=(10, 6))\n",
    "    \n",
    "    for i, s in enumerate(series):\n",
    "        cum = (1 + s).cumprod() - 1\n",
    "        label = labels[i] if labels else f\"Series {i+1}\"\n",
    "        plt.plot(cum.index, cum.values, label=label, linewidth=2)\n",
    "    \n",
    "    plt.title(title, fontsize=14)\n",
    "    plt.xlabel(\"Date\")\n",
    "    plt.ylabel(\"Cumulative Return\")\n",
    "    plt.legend()\n",
    "    plt.grid(True, alpha=0.3)\n",
    "    plt.tight_layout()\n",
    "    plt.show()\n",
    "\n",
    "ret_top200 = alp_return(top200_alpha, returns)\n",
    "ret_mom = alp_return(momentum_01_alpha, returns)\n",
    "ret_mom3 = alp_return(momentum_03_alpha, returns)\n",
    "ret_mom6 = alp_return(momentum_06_alpha, returns)\n",
    "ret_pe_low1 = alp_return(pe_low_01_alpha, returns)\n",
    "ret_pb_low1 = alp_return(pb_low_01_alpha, returns)\n",
    "ret_low_vol = alp_return(low_vol_alpha, returns)\n",
    "ret_high_yield = alp_return(high_yield_alpha,returns)\n",
    "ret_high_yoy = alp_return(high_yoy_alpha,returns) #lag兩個月\n",
    "ret_rev_growth = alp_return(sig_margin,returns)\n",
    "plot_cum_returns(ret_top200, ret_mom,ret_mom3,ret_mom6,ret_pe_low1,ret_pb_low1,ret_low_vol,ret_high_yield,ret_high_yoy,ret_rev_growth,labels=[\"Top200(benchmark)\", \"Momentum_01\",\"Momentum_03\",\"Momentum_06\",\"pe_low\",\"pb_low\",\"low_vol\",\"high_yield\",\"high_yoy\",\"rev_growth\"])\n"
   ]
  },
  {
   "cell_type": "code",
   "execution_count": 171,
   "id": "f1b35279",
   "metadata": {},
   "outputs": [
    {
     "data": {
      "text/html": [
       "<div>\n",
       "<style scoped>\n",
       "    .dataframe tbody tr th:only-of-type {\n",
       "        vertical-align: middle;\n",
       "    }\n",
       "\n",
       "    .dataframe tbody tr th {\n",
       "        vertical-align: top;\n",
       "    }\n",
       "\n",
       "    .dataframe thead th {\n",
       "        text-align: right;\n",
       "    }\n",
       "</style>\n",
       "<table border=\"1\" class=\"dataframe\">\n",
       "  <thead>\n",
       "    <tr style=\"text-align: right;\">\n",
       "      <th></th>\n",
       "      <th>Annual Return</th>\n",
       "      <th>Annual Volatility</th>\n",
       "      <th>Sharpe Ratio</th>\n",
       "    </tr>\n",
       "  </thead>\n",
       "  <tbody>\n",
       "    <tr>\n",
       "      <th>Low_vol</th>\n",
       "      <td>0.086091</td>\n",
       "      <td>0.187065</td>\n",
       "      <td>0.460218</td>\n",
       "    </tr>\n",
       "    <tr>\n",
       "      <th>benchmark</th>\n",
       "      <td>0.097266</td>\n",
       "      <td>0.193963</td>\n",
       "      <td>0.501466</td>\n",
       "    </tr>\n",
       "    <tr>\n",
       "      <th>PB_low</th>\n",
       "      <td>0.107213</td>\n",
       "      <td>0.201381</td>\n",
       "      <td>0.532387</td>\n",
       "    </tr>\n",
       "    <tr>\n",
       "      <th>Momentum_01</th>\n",
       "      <td>0.113701</td>\n",
       "      <td>0.209270</td>\n",
       "      <td>0.543324</td>\n",
       "    </tr>\n",
       "    <tr>\n",
       "      <th>High_yield</th>\n",
       "      <td>0.137034</td>\n",
       "      <td>0.175806</td>\n",
       "      <td>0.779461</td>\n",
       "    </tr>\n",
       "    <tr>\n",
       "      <th>Momentum_03</th>\n",
       "      <td>0.140408</td>\n",
       "      <td>0.213475</td>\n",
       "      <td>0.657726</td>\n",
       "    </tr>\n",
       "    <tr>\n",
       "      <th>PE_low</th>\n",
       "      <td>0.140849</td>\n",
       "      <td>0.198300</td>\n",
       "      <td>0.710282</td>\n",
       "    </tr>\n",
       "    <tr>\n",
       "      <th>Momentum_06</th>\n",
       "      <td>0.151478</td>\n",
       "      <td>0.219799</td>\n",
       "      <td>0.689169</td>\n",
       "    </tr>\n",
       "    <tr>\n",
       "      <th>High_yoy</th>\n",
       "      <td>0.157464</td>\n",
       "      <td>0.213661</td>\n",
       "      <td>0.736980</td>\n",
       "    </tr>\n",
       "    <tr>\n",
       "      <th>Rev_growth</th>\n",
       "      <td>0.166819</td>\n",
       "      <td>0.223768</td>\n",
       "      <td>0.745499</td>\n",
       "    </tr>\n",
       "  </tbody>\n",
       "</table>\n",
       "</div>"
      ],
      "text/plain": [
       "             Annual Return  Annual Volatility  Sharpe Ratio\n",
       "Low_vol           0.086091           0.187065      0.460218\n",
       "benchmark         0.097266           0.193963      0.501466\n",
       "PB_low            0.107213           0.201381      0.532387\n",
       "Momentum_01       0.113701           0.209270      0.543324\n",
       "High_yield        0.137034           0.175806      0.779461\n",
       "Momentum_03       0.140408           0.213475      0.657726\n",
       "PE_low            0.140849           0.198300      0.710282\n",
       "Momentum_06       0.151478           0.219799      0.689169\n",
       "High_yoy          0.157464           0.213661      0.736980\n",
       "Rev_growth        0.166819           0.223768      0.745499"
      ]
     },
     "execution_count": 171,
     "metadata": {},
     "output_type": "execute_result"
    }
   ],
   "source": [
    "import pandas as pd\n",
    "import numpy as np\n",
    "\n",
    "def perf_summary(returns_dict: dict, freq: int = 252, rf: float = 0.0) -> pd.DataFrame:\n",
    "    \"\"\"\n",
    "    統整策略績效：年化報酬、年化波動率、Sharpe ratio\n",
    "    \n",
    "    returns_dict: dict[str, pd.Series] {策略名稱: 日報酬序列}\n",
    "    freq: 一年交易日數 (預設 252)\n",
    "    rf: 無風險利率 (日化)，預設 0\n",
    "    \n",
    "    回傳：pd.DataFrame\n",
    "    \"\"\"\n",
    "    rows = []\n",
    "    for name, r in returns_dict.items():\n",
    "        r = r.dropna()\n",
    "        ann_ret = (1 + r).prod() ** (freq / len(r)) - 1\n",
    "        ann_vol = r.std() * np.sqrt(freq)\n",
    "        sharpe = (ann_ret - rf) / ann_vol if ann_vol > 0 else np.nan\n",
    "        rows.append([ann_ret, ann_vol, sharpe])\n",
    "    \n",
    "    return pd.DataFrame(rows, index=returns_dict.keys(),\n",
    "                        columns=[\"Annual Return\", \"Annual Volatility\", \"Sharpe Ratio\"])\n",
    "\n",
    "# ---------------- 使用範例 ----------------\n",
    "perf_table = perf_summary({\n",
    "    \"Momentum_01\": ret_mom,\n",
    "    \"Momentum_03\": ret_mom3,\n",
    "    \"Momentum_06\": ret_mom6,\n",
    "    \"PE_low\": ret_pe_low1,\n",
    "    \"PB_low\": ret_pb_low1,\n",
    "    \"Low_vol\": ret_low_vol,\n",
    "    \"High_yield\": ret_high_yield,\n",
    "    \"High_yoy\": ret_high_yoy,\n",
    "    \"Rev_growth\": ret_rev_growth,\n",
    "    \"benchmark\":ret_top200\n",
    "})\n",
    "\n",
    "perf_table.sort_values(by=\"Annual Return\")\n"
   ]
  },
  {
   "cell_type": "code",
   "execution_count": 155,
   "id": "45ade39e",
   "metadata": {},
   "outputs": [],
   "source": [
    "import interval_report\n",
    "importlib.reload(interval_report)\n",
    "\n",
    "from interval_report import perf_report,factor_monthly_heatmap_plotly,factor_rank_tile,factor_rank_tile_full"
   ]
  },
  {
   "cell_type": "markdown",
   "id": "ffd743d4",
   "metadata": {},
   "source": [
    "## 函數1:指定區間因子報酬報表"
   ]
  },
  {
   "cell_type": "code",
   "execution_count": 141,
   "id": "e40691e4",
   "metadata": {},
   "outputs": [
    {
     "name": "stderr",
     "output_type": "stream",
     "text": [
      "c:\\Users\\USER\\OneDrive\\桌面\\清大校務基金\\因子投資\\interval_report.py:61: UserWarning:\n",
      "\n",
      "set_ticklabels() should only be used with a fixed number of ticks, i.e. after set_ticks() or using a FixedLocator.\n",
      "\n"
     ]
    },
    {
     "data": {
      "image/png": "[encoded data removed]",
      "text/plain": [
       "<Figure size 1200x1000 with 2 Axes>"
      ]
     },
     "metadata": {},
     "output_type": "display_data"
    },
    {
     "name": "stdout",
     "output_type": "stream",
     "text": [
      "             Annual Return  Annual Volatility  Sharpe Ratio  Total Return\n",
      "Momentum_01         0.1444             0.2076        0.6956        0.2381\n",
      "Momentum_03         0.1094             0.2170        0.5043        0.1787\n",
      "Momentum_06         0.0773             0.2223        0.3478        0.1252\n",
      "PE_low              0.1714             0.2027        0.8456        0.2846\n",
      "PB_low              0.0667             0.2026        0.3290        0.1076\n",
      "Low_vol             0.0228             0.1894        0.1205        0.0364\n",
      "High_yield          0.0988             0.1858        0.5316        0.1608\n",
      "High_yoy            0.2113             0.2453        0.8613        0.3546\n",
      "Rev_growth          0.0942             0.2597        0.3629        0.1533\n",
      "Benchmark           0.0673             0.2079        0.3235        0.1086\n"
     ]
    }
   ],
   "source": [
    "factors = {\n",
    "    \"Momentum_01\": ret_mom,\n",
    "    \"Momentum_03\": ret_mom3,\n",
    "    \"Momentum_06\": ret_mom6,\n",
    "    \"PE_low\": ret_pe_low1,\n",
    "    \"PB_low\": ret_pb_low1,\n",
    "    \"Low_vol\": ret_low_vol,\n",
    "    \"High_yield\": ret_high_yield,\n",
    "    \"High_yoy\": ret_high_yoy,\n",
    "    \"Rev_growth\": ret_rev_growth,\n",
    "    \"Benchmark\" : ret_top200\n",
    "}\n",
    "\n",
    "\n",
    "start= \"2024-01-01\"\n",
    "end= \"2026-01-01\"\n",
    "\n",
    "# start= \"2021-01-01\"\n",
    "# end= \"2025-05-01\"\n",
    "\n",
    "\n",
    "report = perf_report(factors, start_date=start, end_date=end)\n",
    "print(report.round(4))\n"
   ]
  },
  {
   "cell_type": "code",
   "execution_count": null,
   "id": "47bb308a",
   "metadata": {},
   "outputs": [],
   "source": []
  },
  {
   "cell_type": "markdown",
   "id": "34be27c5",
   "metadata": {},
   "source": [
    "## 函數2:最近一年因子月表現熱力圖"
   ]
  },
  {
   "cell_type": "code",
   "execution_count": 43,
   "id": "6cfa388c",
   "metadata": {},
   "outputs": [
    {
     "name": "stderr",
     "output_type": "stream",
     "text": [
      "c:\\Users\\USER\\OneDrive\\桌面\\清大校務基金\\因子投資\\interval_report.py:115: FutureWarning:\n",
      "\n",
      "'M' is deprecated and will be removed in a future version, please use 'ME' instead.\n",
      "\n",
      "c:\\Users\\USER\\OneDrive\\桌面\\清大校務基金\\因子投資\\interval_report.py:126: FutureWarning:\n",
      "\n",
      "DataFrame.applymap has been deprecated. Use DataFrame.map instead.\n",
      "\n"
     ]
    },
    {
     "data": {
      "application/vnd.plotly.v1+json": {
       "config": {
        "plotlyServerURL": "https://plot.ly"
       },
       "data": [
        {
         "colorbar": {
          "title": {
           "text": "Monthly Return (%)"
          }
         },
         "colorscale": [
          [
           0,
           "rgb(165,0,38)"
          ],
          [
           0.1,
           "rgb(215,48,39)"
          ],
          [
           0.2,
           "rgb(244,109,67)"
          ],
          [
           0.3,
           "rgb(253,174,97)"
          ],
          [
           0.4,
           "rgb(254,224,139)"
          ],
          [
           0.5,
           "rgb(255,255,191)"
          ],
          [
           0.6,
           "rgb(217,239,139)"
          ],
          [
           0.7,
           "rgb(166,217,106)"
          ],
          [
           0.8,
           "rgb(102,189,99)"
          ],
          [
           0.9,
           "rgb(26,152,80)"
          ],
          [
           1,
           "rgb(0,104,55)"
          ]
         ],
         "hovertemplate": "<b>%{y}</b><br>%{x}<br>Return: %{text}<extra></extra>",
         "text": [
          [
           "-2.89%",
           "-2.59%",
           "3.18%",
           "0.91%",
           "-0.10%",
           "0.92%",
           "-9.10%",
           "-2.23%",
           "7.23%",
           "5.06%",
           "4.50%",
           "7.94%"
          ],
          [
           "-3.01%",
           "-3.32%",
           "-0.51%",
           "1.45%",
           "-0.40%",
           "0.38%",
           "-10.19%",
           "-3.70%",
           "3.25%",
           "2.42%",
           "7.16%",
           "8.83%"
          ],
          [
           "-3.39%",
           "-1.32%",
           "-2.36%",
           "0.81%",
           "0.14%",
           "0.37%",
           "-10.06%",
           "-3.83%",
           "5.50%",
           "1.72%",
           "4.16%",
           "5.90%"
          ],
          [
           "0.11%",
           "-2.12%",
           "1.46%",
           "0.26%",
           "-0.50%",
           "4.94%",
           "-7.33%",
           "-2.74%",
           "5.49%",
           "0.23%",
           "3.51%",
           "2.38%"
          ],
          [
           "0.82%",
           "-3.57%",
           "-0.75%",
           "-3.74%",
           "0.91%",
           "5.94%",
           "-7.40%",
           "-3.76%",
           "4.03%",
           "-0.65%",
           "5.06%",
           "2.71%"
          ],
          [
           "-0.08%",
           "-3.34%",
           "0.30%",
           "-2.33%",
           "0.84%",
           "2.09%",
           "-7.69%",
           "-3.07%",
           "4.47%",
           "-1.61%",
           "4.45%",
           "1.69%"
          ],
          [
           "-0.56%",
           "-2.82%",
           "-1.92%",
           "-0.91%",
           "0.88%",
           "4.61%",
           "-3.82%",
           "-2.95%",
           "4.40%",
           "-1.60%",
           "2.52%",
           "1.08%"
          ],
          [
           "-3.19%",
           "-0.69%",
           "0.75%",
           "2.13%",
           "-0.80%",
           "0.98%",
           "-11.20%",
           "-1.73%",
           "9.10%",
           "6.95%",
           "7.84%",
           "7.48%"
          ],
          [
           "-5.29%",
           "-0.57%",
           "-0.87%",
           "-0.72%",
           "0.72%",
           "3.36%",
           "-11.24%",
           "-3.40%",
           "7.44%",
           "3.37%",
           "11.73%",
           "5.05%"
          ],
          [
           "-1.85%",
           "-2.16%",
           "-1.02%",
           "-0.16%",
           "0.37%",
           "2.87%",
           "-9.05%",
           "-3.29%",
           "4.99%",
           "1.25%",
           "4.54%",
           "4.14%"
          ]
         ],
         "texttemplate": "%{text}",
         "type": "heatmap",
         "x": [
          "2024-09",
          "2024-10",
          "2024-11",
          "2024-12",
          "2025-01",
          "2025-02",
          "2025-03",
          "2025-04",
          "2025-05",
          "2025-06",
          "2025-07",
          "2025-08"
         ],
         "xgap": 1,
         "y": [
          "Momentum_01",
          "Momentum_03",
          "Momentum_06",
          "PE_low",
          "PB_low",
          "Low_vol",
          "High_yield",
          "High_yoy",
          "Rev_growth",
          "Benchmark(top200)"
         ],
         "ygap": 1,
         "z": [
          [
           -2.890772227922289,
           -2.5881539617735427,
           3.1782625171185908,
           0.9073801442837315,
           -0.10414651027620403,
           0.9150467497998305,
           -9.09951037026695,
           -2.232073781809074,
           7.23257202555756,
           5.062535916428157,
           4.502851287711285,
           7.944921644058622
          ],
          [
           -3.011023508272226,
           -3.3172040280553983,
           -0.5110435560329196,
           1.4540996616215551,
           -0.39533893550162125,
           0.38170044955203597,
           -10.186377907235567,
           -3.6957249086709054,
           3.2475158287107453,
           2.4218679210522787,
           7.163031285039456,
           8.831204027939954
          ],
          [
           -3.394879320655708,
           -1.32117995872294,
           -2.359609392591866,
           0.8065385182380647,
           0.14196545002518324,
           0.37423931840481206,
           -10.055294538929738,
           -3.828900741476271,
           5.499605853056244,
           1.7215821641430429,
           4.163923631287703,
           5.895913444767187
          ],
          [
           0.10730338761102409,
           -2.1206994437452664,
           1.4640779960019223,
           0.2619272318724386,
           -0.4989605342298753,
           4.941981062473366,
           -7.330243968166982,
           -2.7362769910082463,
           5.488480534246798,
           0.22948635626844904,
           3.5105994890834102,
           2.3794333267825873
          ],
          [
           0.8208486909430102,
           -3.5700421605795674,
           -0.7537852528375688,
           -3.7410085737923815,
           0.9088205715554354,
           5.938324402684736,
           -7.399843976065911,
           -3.7569216071487443,
           4.027879883349916,
           -0.6522504713200927,
           5.059536568870926,
           2.705182754104807
          ],
          [
           -0.08337820110659866,
           -3.340336174333469,
           0.30165895764431294,
           -2.326205593381925,
           0.8388694809107644,
           2.092826121714242,
           -7.688557178285671,
           -3.073868497984722,
           4.468093684338892,
           -1.6098851535421788,
           4.453914408536108,
           1.6917102605228829
          ],
          [
           -0.5564282840872292,
           -2.820472407203767,
           -1.917704231019557,
           -0.9131522699482475,
           0.8807023173378781,
           4.61033885555151,
           -3.822199498835732,
           -2.946224306146017,
           4.396851834286464,
           -1.5966744289988233,
           2.5172042267868067,
           1.084846986551713
          ],
          [
           -3.1910331819223647,
           -0.6910489884933924,
           0.7487712432118876,
           2.127022276771262,
           -0.8045252907626144,
           0.9809192886025775,
           -11.201345453334211,
           -1.7305887048968072,
           9.099884815956072,
           6.947781375092799,
           7.840227154510959,
           7.476867564154399
          ],
          [
           -5.285604443209269,
           -0.5714686779406564,
           -0.8724450385104943,
           -0.7188760406483197,
           0.7150001807197492,
           3.358861934641122,
           -11.238896861154046,
           -3.3998459610961707,
           7.440562829897357,
           3.3687640742575686,
           11.73194371357753,
           5.0459811098895635
          ],
          [
           -1.8549082561736374,
           -2.1573929347982856,
           -1.019589193567183,
           -0.1556114217881488,
           0.3748724853619434,
           2.872283449369717,
           -9.047063224320251,
           -3.285144458706024,
           4.993027975222719,
           1.250877247517379,
           4.538528727904834,
           4.140902146805492
          ]
         ],
         "zmid": 0
        }
       ],
       "layout": {
        "font": {
         "size": 12
        },
        "margin": {
         "b": 50,
         "l": 80,
         "r": 40,
         "t": 70
        },
        "template": {
         "data": {
          "bar": [
           {
            "error_x": {
             "color": "#2a3f5f"
            },
            "error_y": {
             "color": "#2a3f5f"
            },
            "marker": {
             "line": {
              "color": "#E5ECF6",
              "width": 0.5
             },
             "pattern": {
              "fillmode": "overlay",
              "size": 10,
              "solidity": 0.2
             }
            },
            "type": "bar"
           }
          ],
          "barpolar": [
           {
            "marker": {
             "line": {
              "color": "#E5ECF6",
              "width": 0.5
             },
             "pattern": {
              "fillmode": "overlay",
              "size": 10,
              "solidity": 0.2
             }
            },
            "type": "barpolar"
           }
          ],
          "carpet": [
           {
            "aaxis": {
             "endlinecolor": "#2a3f5f",
             "gridcolor": "white",
             "linecolor": "white",
             "minorgridcolor": "white",
             "startlinecolor": "#2a3f5f"
            },
            "baxis": {
             "endlinecolor": "#2a3f5f",
             "gridcolor": "white",
             "linecolor": "white",
             "minorgridcolor": "white",
             "startlinecolor": "#2a3f5f"
            },
            "type": "carpet"
           }
          ],
          "choropleth": [
           {
            "colorbar": {
             "outlinewidth": 0,
             "ticks": ""
            },
            "type": "choropleth"
           }
          ],
          "contour": [
           {
            "colorbar": {
             "outlinewidth": 0,
             "ticks": ""
            },
            "colorscale": [
             [
              0,
              "#0d0887"
             ],
             [
              0.1111111111111111,
              "#46039f"
             ],
             [
              0.2222222222222222,
              "#7201a8"
             ],
             [
              0.3333333333333333,
              "#9c179e"
             ],
             [
              0.4444444444444444,
              "#bd3786"
             ],
             [
              0.5555555555555556,
              "#d8576b"
             ],
             [
              0.6666666666666666,
              "#ed7953"
             ],
             [
              0.7777777777777778,
              "#fb9f3a"
             ],
             [
              0.8888888888888888,
              "#fdca26"
             ],
             [
              1,
              "#f0f921"
             ]
            ],
            "type": "contour"
           }
          ],
          "contourcarpet": [
           {
            "colorbar": {
             "outlinewidth": 0,
             "ticks": ""
            },
            "type": "contourcarpet"
           }
          ],
          "heatmap": [
           {
            "colorbar": {
             "outlinewidth": 0,
             "ticks": ""
            },
            "colorscale": [
             [
              0,
              "#0d0887"
             ],
             [
              0.1111111111111111,
              "#46039f"
             ],
             [
              0.2222222222222222,
              "#7201a8"
             ],
             [
              0.3333333333333333,
              "#9c179e"
             ],
             [
              0.4444444444444444,
              "#bd3786"
             ],
             [
              0.5555555555555556,
              "#d8576b"
             ],
             [
              0.6666666666666666,
              "#ed7953"
             ],
             [
              0.7777777777777778,
              "#fb9f3a"
             ],
             [
              0.8888888888888888,
              "#fdca26"
             ],
             [
              1,
              "#f0f921"
             ]
            ],
            "type": "heatmap"
           }
          ],
          "heatmapgl": [
           {
            "colorbar": {
             "outlinewidth": 0,
             "ticks": ""
            },
            "colorscale": [
             [
              0,
              "#0d0887"
             ],
             [
              0.1111111111111111,
              "#46039f"
             ],
             [
              0.2222222222222222,
              "#7201a8"
             ],
             [
              0.3333333333333333,
              "#9c179e"
             ],
             [
              0.4444444444444444,
              "#bd3786"
             ],
             [
              0.5555555555555556,
              "#d8576b"
             ],
             [
              0.6666666666666666,
              "#ed7953"
             ],
             [
              0.7777777777777778,
              "#fb9f3a"
             ],
             [
              0.8888888888888888,
              "#fdca26"
             ],
             [
              1,
              "#f0f921"
             ]
            ],
            "type": "heatmapgl"
           }
          ],
          "histogram": [
           {
            "marker": {
             "pattern": {
              "fillmode": "overlay",
              "size": 10,
              "solidity": 0.2
             }
            },
            "type": "histogram"
           }
          ],
          "histogram2d": [
           {
            "colorbar": {
             "outlinewidth": 0,
             "ticks": ""
            },
            "colorscale": [
             [
              0,
              "#0d0887"
             ],
             [
              0.1111111111111111,
              "#46039f"
             ],
             [
              0.2222222222222222,
              "#7201a8"
             ],
             [
              0.3333333333333333,
              "#9c179e"
             ],
             [
              0.4444444444444444,
              "#bd3786"
             ],
             [
              0.5555555555555556,
              "#d8576b"
             ],
             [
              0.6666666666666666,
              "#ed7953"
             ],
             [
              0.7777777777777778,
              "#fb9f3a"
             ],
             [
              0.8888888888888888,
              "#fdca26"
             ],
             [
              1,
              "#f0f921"
             ]
            ],
            "type": "histogram2d"
           }
          ],
          "histogram2dcontour": [
           {
            "colorbar": {
             "outlinewidth": 0,
             "ticks": ""
            },
            "colorscale": [
             [
              0,
              "#0d0887"
             ],
             [
              0.1111111111111111,
              "#46039f"
             ],
             [
              0.2222222222222222,
              "#7201a8"
             ],
             [
              0.3333333333333333,
              "#9c179e"
             ],
             [
              0.4444444444444444,
              "#bd3786"
             ],
             [
              0.5555555555555556,
              "#d8576b"
             ],
             [
              0.6666666666666666,
              "#ed7953"
             ],
             [
              0.7777777777777778,
              "#fb9f3a"
             ],
             [
              0.8888888888888888,
              "#fdca26"
             ],
             [
              1,
              "#f0f921"
             ]
            ],
            "type": "histogram2dcontour"
           }
          ],
          "mesh3d": [
           {
            "colorbar": {
             "outlinewidth": 0,
             "ticks": ""
            },
            "type": "mesh3d"
           }
          ],
          "parcoords": [
           {
            "line": {
             "colorbar": {
              "outlinewidth": 0,
              "ticks": ""
             }
            },
            "type": "parcoords"
           }
          ],
          "pie": [
           {
            "automargin": true,
            "type": "pie"
           }
          ],
          "scatter": [
           {
            "fillpattern": {
             "fillmode": "overlay",
             "size": 10,
             "solidity": 0.2
            },
            "type": "scatter"
           }
          ],
          "scatter3d": [
           {
            "line": {
             "colorbar": {
              "outlinewidth": 0,
              "ticks": ""
             }
            },
            "marker": {
             "colorbar": {
              "outlinewidth": 0,
              "ticks": ""
             }
            },
            "type": "scatter3d"
           }
          ],
          "scattercarpet": [
           {
            "marker": {
             "colorbar": {
              "outlinewidth": 0,
              "ticks": ""
             }
            },
            "type": "scattercarpet"
           }
          ],
          "scattergeo": [
           {
            "marker": {
             "colorbar": {
              "outlinewidth": 0,
              "ticks": ""
             }
            },
            "type": "scattergeo"
           }
          ],
          "scattergl": [
           {
            "marker": {
             "colorbar": {
              "outlinewidth": 0,
              "ticks": ""
             }
            },
            "type": "scattergl"
           }
          ],
          "scattermapbox": [
           {
            "marker": {
             "colorbar": {
              "outlinewidth": 0,
              "ticks": ""
             }
            },
            "type": "scattermapbox"
           }
          ],
          "scatterpolar": [
           {
            "marker": {
             "colorbar": {
              "outlinewidth": 0,
              "ticks": ""
             }
            },
            "type": "scatterpolar"
           }
          ],
          "scatterpolargl": [
           {
            "marker": {
             "colorbar": {
              "outlinewidth": 0,
              "ticks": ""
             }
            },
            "type": "scatterpolargl"
           }
          ],
          "scatterternary": [
           {
            "marker": {
             "colorbar": {
              "outlinewidth": 0,
              "ticks": ""
             }
            },
            "type": "scatterternary"
           }
          ],
          "surface": [
           {
            "colorbar": {
             "outlinewidth": 0,
             "ticks": ""
            },
            "colorscale": [
             [
              0,
              "#0d0887"
             ],
             [
              0.1111111111111111,
              "#46039f"
             ],
             [
              0.2222222222222222,
              "#7201a8"
             ],
             [
              0.3333333333333333,
              "#9c179e"
             ],
             [
              0.4444444444444444,
              "#bd3786"
             ],
             [
              0.5555555555555556,
              "#d8576b"
             ],
             [
              0.6666666666666666,
              "#ed7953"
             ],
             [
              0.7777777777777778,
              "#fb9f3a"
             ],
             [
              0.8888888888888888,
              "#fdca26"
             ],
             [
              1,
              "#f0f921"
             ]
            ],
            "type": "surface"
           }
          ],
          "table": [
           {
            "cells": {
             "fill": {
              "color": "#EBF0F8"
             },
             "line": {
              "color": "white"
             }
            },
            "header": {
             "fill": {
              "color": "#C8D4E3"
             },
             "line": {
              "color": "white"
             }
            },
            "type": "table"
           }
          ]
         },
         "layout": {
          "annotationdefaults": {
           "arrowcolor": "#2a3f5f",
           "arrowhead": 0,
           "arrowwidth": 1
          },
          "autotypenumbers": "strict",
          "coloraxis": {
           "colorbar": {
            "outlinewidth": 0,
            "ticks": ""
           }
          },
          "colorscale": {
           "diverging": [
            [
             0,
             "#8e0152"
            ],
            [
             0.1,
             "#c51b7d"
            ],
            [
             0.2,
             "#de77ae"
            ],
            [
             0.3,
             "#f1b6da"
            ],
            [
             0.4,
             "#fde0ef"
            ],
            [
             0.5,
             "#f7f7f7"
            ],
            [
             0.6,
             "#e6f5d0"
            ],
            [
             0.7,
             "#b8e186"
            ],
            [
             0.8,
             "#7fbc41"
            ],
            [
             0.9,
             "#4d9221"
            ],
            [
             1,
             "#276419"
            ]
           ],
           "sequential": [
            [
             0,
             "#0d0887"
            ],
            [
             0.1111111111111111,
             "#46039f"
            ],
            [
             0.2222222222222222,
             "#7201a8"
            ],
            [
             0.3333333333333333,
             "#9c179e"
            ],
            [
             0.4444444444444444,
             "#bd3786"
            ],
            [
             0.5555555555555556,
             "#d8576b"
            ],
            [
             0.6666666666666666,
             "#ed7953"
            ],
            [
             0.7777777777777778,
             "#fb9f3a"
            ],
            [
             0.8888888888888888,
             "#fdca26"
            ],
            [
             1,
             "#f0f921"
            ]
           ],
           "sequentialminus": [
            [
             0,
             "#0d0887"
            ],
            [
             0.1111111111111111,
             "#46039f"
            ],
            [
             0.2222222222222222,
             "#7201a8"
            ],
            [
             0.3333333333333333,
             "#9c179e"
            ],
            [
             0.4444444444444444,
             "#bd3786"
            ],
            [
             0.5555555555555556,
             "#d8576b"
            ],
            [
             0.6666666666666666,
             "#ed7953"
            ],
            [
             0.7777777777777778,
             "#fb9f3a"
            ],
            [
             0.8888888888888888,
             "#fdca26"
            ],
            [
             1,
             "#f0f921"
            ]
           ]
          },
          "colorway": [
           "#636efa",
           "#EF553B",
           "#00cc96",
           "#ab63fa",
           "#FFA15A",
           "#19d3f3",
           "#FF6692",
           "#B6E880",
           "#FF97FF",
           "#FECB52"
          ],
          "font": {
           "color": "#2a3f5f"
          },
          "geo": {
           "bgcolor": "white",
           "lakecolor": "white",
           "landcolor": "#E5ECF6",
           "showlakes": true,
           "showland": true,
           "subunitcolor": "white"
          },
          "hoverlabel": {
           "align": "left"
          },
          "hovermode": "closest",
          "mapbox": {
           "style": "light"
          },
          "paper_bgcolor": "white",
          "plot_bgcolor": "#E5ECF6",
          "polar": {
           "angularaxis": {
            "gridcolor": "white",
            "linecolor": "white",
            "ticks": ""
           },
           "bgcolor": "#E5ECF6",
           "radialaxis": {
            "gridcolor": "white",
            "linecolor": "white",
            "ticks": ""
           }
          },
          "scene": {
           "xaxis": {
            "backgroundcolor": "#E5ECF6",
            "gridcolor": "white",
            "gridwidth": 2,
            "linecolor": "white",
            "showbackground": true,
            "ticks": "",
            "zerolinecolor": "white"
           },
           "yaxis": {
            "backgroundcolor": "#E5ECF6",
            "gridcolor": "white",
            "gridwidth": 2,
            "linecolor": "white",
            "showbackground": true,
            "ticks": "",
            "zerolinecolor": "white"
           },
           "zaxis": {
            "backgroundcolor": "#E5ECF6",
            "gridcolor": "white",
            "gridwidth": 2,
            "linecolor": "white",
            "showbackground": true,
            "ticks": "",
            "zerolinecolor": "white"
           }
          },
          "shapedefaults": {
           "line": {
            "color": "#2a3f5f"
           }
          },
          "ternary": {
           "aaxis": {
            "gridcolor": "white",
            "linecolor": "white",
            "ticks": ""
           },
           "baxis": {
            "gridcolor": "white",
            "linecolor": "white",
            "ticks": ""
           },
           "bgcolor": "#E5ECF6",
           "caxis": {
            "gridcolor": "white",
            "linecolor": "white",
            "ticks": ""
           }
          },
          "title": {
           "x": 0.05
          },
          "xaxis": {
           "automargin": true,
           "gridcolor": "white",
           "linecolor": "white",
           "ticks": "",
           "title": {
            "standoff": 15
           },
           "zerolinecolor": "white",
           "zerolinewidth": 2
          },
          "yaxis": {
           "automargin": true,
           "gridcolor": "white",
           "linecolor": "white",
           "ticks": "",
           "title": {
            "standoff": 15
           },
           "zerolinecolor": "white",
           "zerolinewidth": 2
          }
         }
        },
        "title": {
         "text": "Factors Monthly Return Heatmap (Last 12 months)",
         "x": 0.5,
         "xanchor": "center"
        },
        "xaxis": {
         "tickmode": "array",
         "tickvals": [
          "2024-09",
          "2024-10",
          "2024-11",
          "2024-12",
          "2025-01",
          "2025-02",
          "2025-03",
          "2025-04",
          "2025-05",
          "2025-06",
          "2025-07",
          "2025-08"
         ],
         "title": {
          "text": "Month"
         }
        },
        "yaxis": {
         "title": {
          "text": "Factors"
         }
        }
       }
      }
     },
     "metadata": {},
     "output_type": "display_data"
    }
   ],
   "source": [
    "factors = {\n",
    "    \"Momentum_01\": ret_mom,\n",
    "    \"Momentum_03\": ret_mom3,\n",
    "    \"Momentum_06\": ret_mom6,\n",
    "    \"PE_low\": ret_pe_low1,\n",
    "    \"PB_low\": ret_pb_low1,\n",
    "    \"Low_vol\": ret_low_vol,\n",
    "    \"High_yield\": ret_high_yield,\n",
    "    \"High_yoy\": ret_high_yoy,\n",
    "    \"Rev_growth\": ret_rev_growth,\n",
    "    \"Benchmark(top200)\":ret_top200\n",
    "}\n",
    "\n",
    "heatmap_df = factor_monthly_heatmap_plotly(\n",
    "    factors,\n",
    "    end_date=\"2025-08-26\",  # 可省略\n",
    "    months=12,\n",
    "    # save_html=\"factor_heatmap_last12.html\"  # 需要就存檔\n",
    ")\n"
   ]
  },
  {
   "cell_type": "code",
   "execution_count": 144,
   "id": "14bfc050",
   "metadata": {},
   "outputs": [
    {
     "name": "stderr",
     "output_type": "stream",
     "text": [
      "c:\\Users\\USER\\OneDrive\\桌面\\清大校務基金\\因子投資\\interval_report.py:207: FutureWarning:\n",
      "\n",
      "'M' is deprecated and will be removed in a future version, please use 'ME' instead.\n",
      "\n",
      "c:\\Users\\USER\\anaconda3\\Lib\\site-packages\\plotly\\express\\_core.py:1979: FutureWarning:\n",
      "\n",
      "When grouping with a length-1 list-like, you will need to pass a length-1 tuple to get_group in a future version of pandas. Pass `(name,)` instead of `name` to silence this warning.\n",
      "\n"
     ]
    },
    {
     "data": {
      "application/vnd.plotly.v1+json": {
       "config": {
        "plotlyServerURL": "https://plot.ly"
       },
       "data": [
        {
         "hovertemplate": "Factor=Momentum_01<br>Period=%{x}<br>Rank=%{y}<br>Label=%{text}<extra></extra>",
         "legendgroup": "Momentum_01",
         "marker": {
          "color": "rgb(231,138,195)",
          "size": 40,
          "symbol": "square"
         },
         "mode": "markers+text",
         "name": "Momentum_01",
         "orientation": "v",
         "showlegend": true,
         "text": [
          "Momentum_01<br>-2.89%",
          "Momentum_01<br>-2.59%",
          "Momentum_01<br>3.18%",
          "Momentum_01<br>0.91%",
          "Momentum_01<br>-0.10%",
          "Momentum_01<br>0.92%",
          "Momentum_01<br>-9.10%",
          "Momentum_01<br>-2.23%",
          "Momentum_01<br>7.23%",
          "Momentum_01<br>5.06%",
          "Momentum_01<br>4.50%",
          "Momentum_01<br>7.94%"
         ],
         "textfont": {
          "color": "black",
          "size": 9
         },
         "textposition": "middle center",
         "type": "scatter",
         "x": [
          "2024-09",
          "2024-10",
          "2024-11",
          "2024-12",
          "2025-01",
          "2025-02",
          "2025-03",
          "2025-04",
          "2025-05",
          "2025-06",
          "2025-07",
          "2025-08"
         ],
         "xaxis": "x",
         "y": [
          5,
          5,
          1,
          3,
          6,
          7,
          5,
          2,
          3,
          2,
          5,
          2
         ],
         "yaxis": "y"
        },
        {
         "hovertemplate": "Factor=Momentum_03<br>Period=%{x}<br>Rank=%{y}<br>Label=%{text}<extra></extra>",
         "legendgroup": "Momentum_03",
         "marker": {
          "color": "rgb(166,216,84)",
          "size": 40,
          "symbol": "square"
         },
         "mode": "markers+text",
         "name": "Momentum_03",
         "orientation": "v",
         "showlegend": true,
         "text": [
          "Momentum_03<br>-3.01%",
          "Momentum_03<br>-3.32%",
          "Momentum_03<br>-0.51%",
          "Momentum_03<br>1.45%",
          "Momentum_03<br>-0.40%",
          "Momentum_03<br>0.38%",
          "Momentum_03<br>-10.19%",
          "Momentum_03<br>-3.70%",
          "Momentum_03<br>3.25%",
          "Momentum_03<br>2.42%",
          "Momentum_03<br>7.16%",
          "Momentum_03<br>8.83%"
         ],
         "textfont": {
          "color": "black",
          "size": 9
         },
         "textposition": "middle center",
         "type": "scatter",
         "x": [
          "2024-09",
          "2024-10",
          "2024-11",
          "2024-12",
          "2025-01",
          "2025-02",
          "2025-03",
          "2025-04",
          "2025-05",
          "2025-06",
          "2025-07",
          "2025-08"
         ],
         "xaxis": "x",
         "y": [
          6,
          7,
          5,
          2,
          7,
          8,
          7,
          7,
          9,
          4,
          3,
          1
         ],
         "yaxis": "y"
        },
        {
         "hovertemplate": "Factor=Momentum_06<br>Period=%{x}<br>Rank=%{y}<br>Label=%{text}<extra></extra>",
         "legendgroup": "Momentum_06",
         "marker": {
          "color": "rgb(255,217,47)",
          "size": 40,
          "symbol": "square"
         },
         "mode": "markers+text",
         "name": "Momentum_06",
         "orientation": "v",
         "showlegend": true,
         "text": [
          "Momentum_06<br>-3.39%",
          "Momentum_06<br>-1.32%",
          "Momentum_06<br>-2.36%",
          "Momentum_06<br>0.81%",
          "Momentum_06<br>0.14%",
          "Momentum_06<br>0.37%",
          "Momentum_06<br>-10.06%",
          "Momentum_06<br>-3.83%",
          "Momentum_06<br>5.50%",
          "Momentum_06<br>1.72%",
          "Momentum_06<br>4.16%",
          "Momentum_06<br>5.90%"
         ],
         "textfont": {
          "color": "black",
          "size": 9
         },
         "textposition": "middle center",
         "type": "scatter",
         "x": [
          "2024-09",
          "2024-10",
          "2024-11",
          "2024-12",
          "2025-01",
          "2025-02",
          "2025-03",
          "2025-04",
          "2025-05",
          "2025-06",
          "2025-07",
          "2025-08"
         ],
         "xaxis": "x",
         "y": [
          8,
          3,
          9,
          4,
          5,
          9,
          6,
          9,
          4,
          5,
          7,
          4
         ],
         "yaxis": "y"
        },
        {
         "hovertemplate": "Factor=PE_Low<br>Period=%{x}<br>Rank=%{y}<br>Label=%{text}<extra></extra>",
         "legendgroup": "PE_Low",
         "marker": {
          "color": "rgb(179,179,179)",
          "size": 40,
          "symbol": "square"
         },
         "mode": "markers+text",
         "name": "PE_Low",
         "orientation": "v",
         "showlegend": true,
         "text": [
          "PE_Low<br>0.11%",
          "PE_Low<br>-2.12%",
          "PE_Low<br>1.46%",
          "PE_Low<br>0.26%",
          "PE_Low<br>-0.50%",
          "PE_Low<br>4.94%",
          "PE_Low<br>-7.33%",
          "PE_Low<br>-2.74%",
          "PE_Low<br>5.49%",
          "PE_Low<br>0.23%",
          "PE_Low<br>3.51%",
          "PE_Low<br>2.38%"
         ],
         "textfont": {
          "color": "black",
          "size": 9
         },
         "textposition": "middle center",
         "type": "scatter",
         "x": [
          "2024-09",
          "2024-10",
          "2024-11",
          "2024-12",
          "2025-01",
          "2025-02",
          "2025-03",
          "2025-04",
          "2025-05",
          "2025-06",
          "2025-07",
          "2025-08"
         ],
         "xaxis": "x",
         "y": [
          2,
          4,
          2,
          5,
          8,
          2,
          2,
          3,
          5,
          6,
          8,
          7
         ],
         "yaxis": "y"
        },
        {
         "hovertemplate": "Factor=PB_Low<br>Period=%{x}<br>Rank=%{y}<br>Label=%{text}<extra></extra>",
         "legendgroup": "PB_Low",
         "marker": {
          "color": "rgb(229,196,148)",
          "size": 40,
          "symbol": "square"
         },
         "mode": "markers+text",
         "name": "PB_Low",
         "orientation": "v",
         "showlegend": true,
         "text": [
          "PB_Low<br>0.82%",
          "PB_Low<br>-3.57%",
          "PB_Low<br>-0.75%",
          "PB_Low<br>-3.74%",
          "PB_Low<br>0.91%",
          "PB_Low<br>5.94%",
          "PB_Low<br>-7.40%",
          "PB_Low<br>-3.76%",
          "PB_Low<br>4.03%",
          "PB_Low<br>-0.65%",
          "PB_Low<br>5.06%",
          "PB_Low<br>2.71%"
         ],
         "textfont": {
          "color": "black",
          "size": 9
         },
         "textposition": "middle center",
         "type": "scatter",
         "x": [
          "2024-09",
          "2024-10",
          "2024-11",
          "2024-12",
          "2025-01",
          "2025-02",
          "2025-03",
          "2025-04",
          "2025-05",
          "2025-06",
          "2025-07",
          "2025-08"
         ],
         "xaxis": "x",
         "y": [
          1,
          9,
          6,
          9,
          1,
          1,
          3,
          8,
          8,
          7,
          4,
          6
         ],
         "yaxis": "y"
        },
        {
         "hovertemplate": "Factor=LowVol<br>Period=%{x}<br>Rank=%{y}<br>Label=%{text}<extra></extra>",
         "legendgroup": "LowVol",
         "marker": {
          "color": "rgb(141,160,203)",
          "size": 40,
          "symbol": "square"
         },
         "mode": "markers+text",
         "name": "LowVol",
         "orientation": "v",
         "showlegend": true,
         "text": [
          "LowVol<br>-0.08%",
          "LowVol<br>-3.34%",
          "LowVol<br>0.30%",
          "LowVol<br>-2.33%",
          "LowVol<br>0.84%",
          "LowVol<br>2.09%",
          "LowVol<br>-7.69%",
          "LowVol<br>-3.07%",
          "LowVol<br>4.47%",
          "LowVol<br>-1.61%",
          "LowVol<br>4.45%",
          "LowVol<br>1.69%"
         ],
         "textfont": {
          "color": "black",
          "size": 9
         },
         "textposition": "middle center",
         "type": "scatter",
         "x": [
          "2024-09",
          "2024-10",
          "2024-11",
          "2024-12",
          "2025-01",
          "2025-02",
          "2025-03",
          "2025-04",
          "2025-05",
          "2025-06",
          "2025-07",
          "2025-08"
         ],
         "xaxis": "x",
         "y": [
          3,
          8,
          4,
          8,
          3,
          5,
          4,
          5,
          6,
          9,
          6,
          8
         ],
         "yaxis": "y"
        },
        {
         "hovertemplate": "Factor=HighYield<br>Period=%{x}<br>Rank=%{y}<br>Label=%{text}<extra></extra>",
         "legendgroup": "HighYield",
         "marker": {
          "color": "rgb(102,194,165)",
          "size": 40,
          "symbol": "square"
         },
         "mode": "markers+text",
         "name": "HighYield",
         "orientation": "v",
         "showlegend": true,
         "text": [
          "HighYield<br>-0.56%",
          "HighYield<br>-2.82%",
          "HighYield<br>-1.92%",
          "HighYield<br>-0.91%",
          "HighYield<br>0.88%",
          "HighYield<br>4.61%",
          "HighYield<br>-3.82%",
          "HighYield<br>-2.95%",
          "HighYield<br>4.40%",
          "HighYield<br>-1.60%",
          "HighYield<br>2.52%",
          "HighYield<br>1.08%"
         ],
         "textfont": {
          "color": "black",
          "size": 9
         },
         "textposition": "middle center",
         "type": "scatter",
         "x": [
          "2024-09",
          "2024-10",
          "2024-11",
          "2024-12",
          "2025-01",
          "2025-02",
          "2025-03",
          "2025-04",
          "2025-05",
          "2025-06",
          "2025-07",
          "2025-08"
         ],
         "xaxis": "x",
         "y": [
          4,
          6,
          8,
          7,
          2,
          3,
          1,
          4,
          7,
          8,
          9,
          9
         ],
         "yaxis": "y"
        },
        {
         "hovertemplate": "Factor=HighYoY<br>Period=%{x}<br>Rank=%{y}<br>Label=%{text}<extra></extra>",
         "legendgroup": "HighYoY",
         "marker": {
          "color": "rgb(252,141,98)",
          "size": 40,
          "symbol": "square"
         },
         "mode": "markers+text",
         "name": "HighYoY",
         "orientation": "v",
         "showlegend": true,
         "text": [
          "HighYoY<br>-3.19%",
          "HighYoY<br>-0.69%",
          "HighYoY<br>0.75%",
          "HighYoY<br>2.13%",
          "HighYoY<br>-0.80%",
          "HighYoY<br>0.98%",
          "HighYoY<br>-11.20%",
          "HighYoY<br>-1.73%",
          "HighYoY<br>9.10%",
          "HighYoY<br>6.95%",
          "HighYoY<br>7.84%",
          "HighYoY<br>7.48%"
         ],
         "textfont": {
          "color": "black",
          "size": 9
         },
         "textposition": "middle center",
         "type": "scatter",
         "x": [
          "2024-09",
          "2024-10",
          "2024-11",
          "2024-12",
          "2025-01",
          "2025-02",
          "2025-03",
          "2025-04",
          "2025-05",
          "2025-06",
          "2025-07",
          "2025-08"
         ],
         "xaxis": "x",
         "y": [
          7,
          2,
          3,
          1,
          9,
          6,
          8,
          1,
          1,
          1,
          2,
          3
         ],
         "yaxis": "y"
        },
        {
         "hovertemplate": "Factor=RevGrowth<br>Period=%{x}<br>Rank=%{y}<br>Label=%{text}<extra></extra>",
         "legendgroup": "RevGrowth",
         "marker": {
          "color": "rgb(102,194,165)",
          "size": 40,
          "symbol": "square"
         },
         "mode": "markers+text",
         "name": "RevGrowth",
         "orientation": "v",
         "showlegend": true,
         "text": [
          "RevGrowth<br>-5.29%",
          "RevGrowth<br>-0.57%",
          "RevGrowth<br>-0.87%",
          "RevGrowth<br>-0.72%",
          "RevGrowth<br>0.72%",
          "RevGrowth<br>3.36%",
          "RevGrowth<br>-11.24%",
          "RevGrowth<br>-3.40%",
          "RevGrowth<br>7.44%",
          "RevGrowth<br>3.37%",
          "RevGrowth<br>11.73%",
          "RevGrowth<br>5.05%"
         ],
         "textfont": {
          "color": "black",
          "size": 9
         },
         "textposition": "middle center",
         "type": "scatter",
         "x": [
          "2024-09",
          "2024-10",
          "2024-11",
          "2024-12",
          "2025-01",
          "2025-02",
          "2025-03",
          "2025-04",
          "2025-05",
          "2025-06",
          "2025-07",
          "2025-08"
         ],
         "xaxis": "x",
         "y": [
          9,
          1,
          7,
          6,
          4,
          4,
          9,
          6,
          2,
          3,
          1,
          5
         ],
         "yaxis": "y"
        }
       ],
       "layout": {
        "height": 690,
        "legend": {
         "title": {
          "text": "Factor"
         },
         "tracegroupgap": 0
        },
        "margin": {
         "b": 60,
         "l": 60,
         "r": 60,
         "t": 80
        },
        "template": {
         "data": {
          "bar": [
           {
            "error_x": {
             "color": "#2a3f5f"
            },
            "error_y": {
             "color": "#2a3f5f"
            },
            "marker": {
             "line": {
              "color": "#E5ECF6",
              "width": 0.5
             },
             "pattern": {
              "fillmode": "overlay",
              "size": 10,
              "solidity": 0.2
             }
            },
            "type": "bar"
           }
          ],
          "barpolar": [
           {
            "marker": {
             "line": {
              "color": "#E5ECF6",
              "width": 0.5
             },
             "pattern": {
              "fillmode": "overlay",
              "size": 10,
              "solidity": 0.2
             }
            },
            "type": "barpolar"
           }
          ],
          "carpet": [
           {
            "aaxis": {
             "endlinecolor": "#2a3f5f",
             "gridcolor": "white",
             "linecolor": "white",
             "minorgridcolor": "white",
             "startlinecolor": "#2a3f5f"
            },
            "baxis": {
             "endlinecolor": "#2a3f5f",
             "gridcolor": "white",
             "linecolor": "white",
             "minorgridcolor": "white",
             "startlinecolor": "#2a3f5f"
            },
            "type": "carpet"
           }
          ],
          "choropleth": [
           {
            "colorbar": {
             "outlinewidth": 0,
             "ticks": ""
            },
            "type": "choropleth"
           }
          ],
          "contour": [
           {
            "colorbar": {
             "outlinewidth": 0,
             "ticks": ""
            },
            "colorscale": [
             [
              0,
              "#0d0887"
             ],
             [
              0.1111111111111111,
              "#46039f"
             ],
             [
              0.2222222222222222,
              "#7201a8"
             ],
             [
              0.3333333333333333,
              "#9c179e"
             ],
             [
              0.4444444444444444,
              "#bd3786"
             ],
             [
              0.5555555555555556,
              "#d8576b"
             ],
             [
              0.6666666666666666,
              "#ed7953"
             ],
             [
              0.7777777777777778,
              "#fb9f3a"
             ],
             [
              0.8888888888888888,
              "#fdca26"
             ],
             [
              1,
              "#f0f921"
             ]
            ],
            "type": "contour"
           }
          ],
          "contourcarpet": [
           {
            "colorbar": {
             "outlinewidth": 0,
             "ticks": ""
            },
            "type": "contourcarpet"
           }
          ],
          "heatmap": [
           {
            "colorbar": {
             "outlinewidth": 0,
             "ticks": ""
            },
            "colorscale": [
             [
              0,
              "#0d0887"
             ],
             [
              0.1111111111111111,
              "#46039f"
             ],
             [
              0.2222222222222222,
              "#7201a8"
             ],
             [
              0.3333333333333333,
              "#9c179e"
             ],
             [
              0.4444444444444444,
              "#bd3786"
             ],
             [
              0.5555555555555556,
              "#d8576b"
             ],
             [
              0.6666666666666666,
              "#ed7953"
             ],
             [
              0.7777777777777778,
              "#fb9f3a"
             ],
             [
              0.8888888888888888,
              "#fdca26"
             ],
             [
              1,
              "#f0f921"
             ]
            ],
            "type": "heatmap"
           }
          ],
          "heatmapgl": [
           {
            "colorbar": {
             "outlinewidth": 0,
             "ticks": ""
            },
            "colorscale": [
             [
              0,
              "#0d0887"
             ],
             [
              0.1111111111111111,
              "#46039f"
             ],
             [
              0.2222222222222222,
              "#7201a8"
             ],
             [
              0.3333333333333333,
              "#9c179e"
             ],
             [
              0.4444444444444444,
              "#bd3786"
             ],
             [
              0.5555555555555556,
              "#d8576b"
             ],
             [
              0.6666666666666666,
              "#ed7953"
             ],
             [
              0.7777777777777778,
              "#fb9f3a"
             ],
             [
              0.8888888888888888,
              "#fdca26"
             ],
             [
              1,
              "#f0f921"
             ]
            ],
            "type": "heatmapgl"
           }
          ],
          "histogram": [
           {
            "marker": {
             "pattern": {
              "fillmode": "overlay",
              "size": 10,
              "solidity": 0.2
             }
            },
            "type": "histogram"
           }
          ],
          "histogram2d": [
           {
            "colorbar": {
             "outlinewidth": 0,
             "ticks": ""
            },
            "colorscale": [
             [
              0,
              "#0d0887"
             ],
             [
              0.1111111111111111,
              "#46039f"
             ],
             [
              0.2222222222222222,
              "#7201a8"
             ],
             [
              0.3333333333333333,
              "#9c179e"
             ],
             [
              0.4444444444444444,
              "#bd3786"
             ],
             [
              0.5555555555555556,
              "#d8576b"
             ],
             [
              0.6666666666666666,
              "#ed7953"
             ],
             [
              0.7777777777777778,
              "#fb9f3a"
             ],
             [
              0.8888888888888888,
              "#fdca26"
             ],
             [
              1,
              "#f0f921"
             ]
            ],
            "type": "histogram2d"
           }
          ],
          "histogram2dcontour": [
           {
            "colorbar": {
             "outlinewidth": 0,
             "ticks": ""
            },
            "colorscale": [
             [
              0,
              "#0d0887"
             ],
             [
              0.1111111111111111,
              "#46039f"
             ],
             [
              0.2222222222222222,
              "#7201a8"
             ],
             [
              0.3333333333333333,
              "#9c179e"
             ],
             [
              0.4444444444444444,
              "#bd3786"
             ],
             [
              0.5555555555555556,
              "#d8576b"
             ],
             [
              0.6666666666666666,
              "#ed7953"
             ],
             [
              0.7777777777777778,
              "#fb9f3a"
             ],
             [
              0.8888888888888888,
              "#fdca26"
             ],
             [
              1,
              "#f0f921"
             ]
            ],
            "type": "histogram2dcontour"
           }
          ],
          "mesh3d": [
           {
            "colorbar": {
             "outlinewidth": 0,
             "ticks": ""
            },
            "type": "mesh3d"
           }
          ],
          "parcoords": [
           {
            "line": {
             "colorbar": {
              "outlinewidth": 0,
              "ticks": ""
             }
            },
            "type": "parcoords"
           }
          ],
          "pie": [
           {
            "automargin": true,
            "type": "pie"
           }
          ],
          "scatter": [
           {
            "fillpattern": {
             "fillmode": "overlay",
             "size": 10,
             "solidity": 0.2
            },
            "type": "scatter"
           }
          ],
          "scatter3d": [
           {
            "line": {
             "colorbar": {
              "outlinewidth": 0,
              "ticks": ""
             }
            },
            "marker": {
             "colorbar": {
              "outlinewidth": 0,
              "ticks": ""
             }
            },
            "type": "scatter3d"
           }
          ],
          "scattercarpet": [
           {
            "marker": {
             "colorbar": {
              "outlinewidth": 0,
              "ticks": ""
             }
            },
            "type": "scattercarpet"
           }
          ],
          "scattergeo": [
           {
            "marker": {
             "colorbar": {
              "outlinewidth": 0,
              "ticks": ""
             }
            },
            "type": "scattergeo"
           }
          ],
          "scattergl": [
           {
            "marker": {
             "colorbar": {
              "outlinewidth": 0,
              "ticks": ""
             }
            },
            "type": "scattergl"
           }
          ],
          "scattermapbox": [
           {
            "marker": {
             "colorbar": {
              "outlinewidth": 0,
              "ticks": ""
             }
            },
            "type": "scattermapbox"
           }
          ],
          "scatterpolar": [
           {
            "marker": {
             "colorbar": {
              "outlinewidth": 0,
              "ticks": ""
             }
            },
            "type": "scatterpolar"
           }
          ],
          "scatterpolargl": [
           {
            "marker": {
             "colorbar": {
              "outlinewidth": 0,
              "ticks": ""
             }
            },
            "type": "scatterpolargl"
           }
          ],
          "scatterternary": [
           {
            "marker": {
             "colorbar": {
              "outlinewidth": 0,
              "ticks": ""
             }
            },
            "type": "scatterternary"
           }
          ],
          "surface": [
           {
            "colorbar": {
             "outlinewidth": 0,
             "ticks": ""
            },
            "colorscale": [
             [
              0,
              "#0d0887"
             ],
             [
              0.1111111111111111,
              "#46039f"
             ],
             [
              0.2222222222222222,
              "#7201a8"
             ],
             [
              0.3333333333333333,
              "#9c179e"
             ],
             [
              0.4444444444444444,
              "#bd3786"
             ],
             [
              0.5555555555555556,
              "#d8576b"
             ],
             [
              0.6666666666666666,
              "#ed7953"
             ],
             [
              0.7777777777777778,
              "#fb9f3a"
             ],
             [
              0.8888888888888888,
              "#fdca26"
             ],
             [
              1,
              "#f0f921"
             ]
            ],
            "type": "surface"
           }
          ],
          "table": [
           {
            "cells": {
             "fill": {
              "color": "#EBF0F8"
             },
             "line": {
              "color": "white"
             }
            },
            "header": {
             "fill": {
              "color": "#C8D4E3"
             },
             "line": {
              "color": "white"
             }
            },
            "type": "table"
           }
          ]
         },
         "layout": {
          "annotationdefaults": {
           "arrowcolor": "#2a3f5f",
           "arrowhead": 0,
           "arrowwidth": 1
          },
          "autotypenumbers": "strict",
          "coloraxis": {
           "colorbar": {
            "outlinewidth": 0,
            "ticks": ""
           }
          },
          "colorscale": {
           "diverging": [
            [
             0,
             "#8e0152"
            ],
            [
             0.1,
             "#c51b7d"
            ],
            [
             0.2,
             "#de77ae"
            ],
            [
             0.3,
             "#f1b6da"
            ],
            [
             0.4,
             "#fde0ef"
            ],
            [
             0.5,
             "#f7f7f7"
            ],
            [
             0.6,
             "#e6f5d0"
            ],
            [
             0.7,
             "#b8e186"
            ],
            [
             0.8,
             "#7fbc41"
            ],
            [
             0.9,
             "#4d9221"
            ],
            [
             1,
             "#276419"
            ]
           ],
           "sequential": [
            [
             0,
             "#0d0887"
            ],
            [
             0.1111111111111111,
             "#46039f"
            ],
            [
             0.2222222222222222,
             "#7201a8"
            ],
            [
             0.3333333333333333,
             "#9c179e"
            ],
            [
             0.4444444444444444,
             "#bd3786"
            ],
            [
             0.5555555555555556,
             "#d8576b"
            ],
            [
             0.6666666666666666,
             "#ed7953"
            ],
            [
             0.7777777777777778,
             "#fb9f3a"
            ],
            [
             0.8888888888888888,
             "#fdca26"
            ],
            [
             1,
             "#f0f921"
            ]
           ],
           "sequentialminus": [
            [
             0,
             "#0d0887"
            ],
            [
             0.1111111111111111,
             "#46039f"
            ],
            [
             0.2222222222222222,
             "#7201a8"
            ],
            [
             0.3333333333333333,
             "#9c179e"
            ],
            [
             0.4444444444444444,
             "#bd3786"
            ],
            [
             0.5555555555555556,
             "#d8576b"
            ],
            [
             0.6666666666666666,
             "#ed7953"
            ],
            [
             0.7777777777777778,
             "#fb9f3a"
            ],
            [
             0.8888888888888888,
             "#fdca26"
            ],
            [
             1,
             "#f0f921"
            ]
           ]
          },
          "colorway": [
           "#636efa",
           "#EF553B",
           "#00cc96",
           "#ab63fa",
           "#FFA15A",
           "#19d3f3",
           "#FF6692",
           "#B6E880",
           "#FF97FF",
           "#FECB52"
          ],
          "font": {
           "color": "#2a3f5f"
          },
          "geo": {
           "bgcolor": "white",
           "lakecolor": "white",
           "landcolor": "#E5ECF6",
           "showlakes": true,
           "showland": true,
           "subunitcolor": "white"
          },
          "hoverlabel": {
           "align": "left"
          },
          "hovermode": "closest",
          "mapbox": {
           "style": "light"
          },
          "paper_bgcolor": "white",
          "plot_bgcolor": "#E5ECF6",
          "polar": {
           "angularaxis": {
            "gridcolor": "white",
            "linecolor": "white",
            "ticks": ""
           },
           "bgcolor": "#E5ECF6",
           "radialaxis": {
            "gridcolor": "white",
            "linecolor": "white",
            "ticks": ""
           }
          },
          "scene": {
           "xaxis": {
            "backgroundcolor": "#E5ECF6",
            "gridcolor": "white",
            "gridwidth": 2,
            "linecolor": "white",
            "showbackground": true,
            "ticks": "",
            "zerolinecolor": "white"
           },
           "yaxis": {
            "backgroundcolor": "#E5ECF6",
            "gridcolor": "white",
            "gridwidth": 2,
            "linecolor": "white",
            "showbackground": true,
            "ticks": "",
            "zerolinecolor": "white"
           },
           "zaxis": {
            "backgroundcolor": "#E5ECF6",
            "gridcolor": "white",
            "gridwidth": 2,
            "linecolor": "white",
            "showbackground": true,
            "ticks": "",
            "zerolinecolor": "white"
           }
          },
          "shapedefaults": {
           "line": {
            "color": "#2a3f5f"
           }
          },
          "ternary": {
           "aaxis": {
            "gridcolor": "white",
            "linecolor": "white",
            "ticks": ""
           },
           "baxis": {
            "gridcolor": "white",
            "linecolor": "white",
            "ticks": ""
           },
           "bgcolor": "#E5ECF6",
           "caxis": {
            "gridcolor": "white",
            "linecolor": "white",
            "ticks": ""
           }
          },
          "title": {
           "x": 0.05
          },
          "xaxis": {
           "automargin": true,
           "gridcolor": "white",
           "linecolor": "white",
           "ticks": "",
           "title": {
            "standoff": 15
           },
           "zerolinecolor": "white",
           "zerolinewidth": 2
          },
          "yaxis": {
           "automargin": true,
           "gridcolor": "white",
           "linecolor": "white",
           "ticks": "",
           "title": {
            "standoff": 15
           },
           "zerolinecolor": "white",
           "zerolinewidth": 2
          }
         }
        },
        "title": {
         "text": "Factors Monthly Ranking (Last 12 months)"
        },
        "xaxis": {
         "anchor": "y",
         "domain": [
          0,
          1
         ],
         "title": {
          "text": "Period"
         }
        },
        "yaxis": {
         "anchor": "x",
         "autorange": "reversed",
         "domain": [
          0,
          1
         ],
         "dtick": 1,
         "title": {
          "text": "Rank"
         }
        }
       }
      }
     },
     "metadata": {},
     "output_type": "display_data"
    },
    {
     "data": {
      "text/html": [
       "<div>\n",
       "<style scoped>\n",
       "    .dataframe tbody tr th:only-of-type {\n",
       "        vertical-align: middle;\n",
       "    }\n",
       "\n",
       "    .dataframe tbody tr th {\n",
       "        vertical-align: top;\n",
       "    }\n",
       "\n",
       "    .dataframe thead th {\n",
       "        text-align: right;\n",
       "    }\n",
       "</style>\n",
       "<table border=\"1\" class=\"dataframe\">\n",
       "  <thead>\n",
       "    <tr style=\"text-align: right;\">\n",
       "      <th></th>\n",
       "      <th>Period</th>\n",
       "      <th>Factor</th>\n",
       "      <th>Return</th>\n",
       "      <th>Rank</th>\n",
       "      <th>Label</th>\n",
       "    </tr>\n",
       "  </thead>\n",
       "  <tbody>\n",
       "    <tr>\n",
       "      <th>0</th>\n",
       "      <td>2024-09</td>\n",
       "      <td>Momentum_01</td>\n",
       "      <td>-0.028908</td>\n",
       "      <td>5.0</td>\n",
       "      <td>Momentum_01&lt;br&gt;-2.89%</td>\n",
       "    </tr>\n",
       "    <tr>\n",
       "      <th>1</th>\n",
       "      <td>2024-10</td>\n",
       "      <td>Momentum_01</td>\n",
       "      <td>-0.025882</td>\n",
       "      <td>5.0</td>\n",
       "      <td>Momentum_01&lt;br&gt;-2.59%</td>\n",
       "    </tr>\n",
       "    <tr>\n",
       "      <th>2</th>\n",
       "      <td>2024-11</td>\n",
       "      <td>Momentum_01</td>\n",
       "      <td>0.031783</td>\n",
       "      <td>1.0</td>\n",
       "      <td>Momentum_01&lt;br&gt;3.18%</td>\n",
       "    </tr>\n",
       "    <tr>\n",
       "      <th>3</th>\n",
       "      <td>2024-12</td>\n",
       "      <td>Momentum_01</td>\n",
       "      <td>0.009074</td>\n",
       "      <td>3.0</td>\n",
       "      <td>Momentum_01&lt;br&gt;0.91%</td>\n",
       "    </tr>\n",
       "    <tr>\n",
       "      <th>4</th>\n",
       "      <td>2025-01</td>\n",
       "      <td>Momentum_01</td>\n",
       "      <td>-0.001041</td>\n",
       "      <td>6.0</td>\n",
       "      <td>Momentum_01&lt;br&gt;-0.10%</td>\n",
       "    </tr>\n",
       "    <tr>\n",
       "      <th>...</th>\n",
       "      <td>...</td>\n",
       "      <td>...</td>\n",
       "      <td>...</td>\n",
       "      <td>...</td>\n",
       "      <td>...</td>\n",
       "    </tr>\n",
       "    <tr>\n",
       "      <th>103</th>\n",
       "      <td>2025-04</td>\n",
       "      <td>RevGrowth</td>\n",
       "      <td>-0.033998</td>\n",
       "      <td>6.0</td>\n",
       "      <td>RevGrowth&lt;br&gt;-3.40%</td>\n",
       "    </tr>\n",
       "    <tr>\n",
       "      <th>104</th>\n",
       "      <td>2025-05</td>\n",
       "      <td>RevGrowth</td>\n",
       "      <td>0.074406</td>\n",
       "      <td>2.0</td>\n",
       "      <td>RevGrowth&lt;br&gt;7.44%</td>\n",
       "    </tr>\n",
       "    <tr>\n",
       "      <th>105</th>\n",
       "      <td>2025-06</td>\n",
       "      <td>RevGrowth</td>\n",
       "      <td>0.033688</td>\n",
       "      <td>3.0</td>\n",
       "      <td>RevGrowth&lt;br&gt;3.37%</td>\n",
       "    </tr>\n",
       "    <tr>\n",
       "      <th>106</th>\n",
       "      <td>2025-07</td>\n",
       "      <td>RevGrowth</td>\n",
       "      <td>0.117319</td>\n",
       "      <td>1.0</td>\n",
       "      <td>RevGrowth&lt;br&gt;11.73%</td>\n",
       "    </tr>\n",
       "    <tr>\n",
       "      <th>107</th>\n",
       "      <td>2025-08</td>\n",
       "      <td>RevGrowth</td>\n",
       "      <td>0.050460</td>\n",
       "      <td>5.0</td>\n",
       "      <td>RevGrowth&lt;br&gt;5.05%</td>\n",
       "    </tr>\n",
       "  </tbody>\n",
       "</table>\n",
       "<p>108 rows × 5 columns</p>\n",
       "</div>"
      ],
      "text/plain": [
       "      Period       Factor    Return  Rank                  Label\n",
       "0    2024-09  Momentum_01 -0.028908   5.0  Momentum_01<br>-2.89%\n",
       "1    2024-10  Momentum_01 -0.025882   5.0  Momentum_01<br>-2.59%\n",
       "2    2024-11  Momentum_01  0.031783   1.0   Momentum_01<br>3.18%\n",
       "3    2024-12  Momentum_01  0.009074   3.0   Momentum_01<br>0.91%\n",
       "4    2025-01  Momentum_01 -0.001041   6.0  Momentum_01<br>-0.10%\n",
       "..       ...          ...       ...   ...                    ...\n",
       "103  2025-04    RevGrowth -0.033998   6.0    RevGrowth<br>-3.40%\n",
       "104  2025-05    RevGrowth  0.074406   2.0     RevGrowth<br>7.44%\n",
       "105  2025-06    RevGrowth  0.033688   3.0     RevGrowth<br>3.37%\n",
       "106  2025-07    RevGrowth  0.117319   1.0    RevGrowth<br>11.73%\n",
       "107  2025-08    RevGrowth  0.050460   5.0     RevGrowth<br>5.05%\n",
       "\n",
       "[108 rows x 5 columns]"
      ]
     },
     "execution_count": 144,
     "metadata": {},
     "output_type": "execute_result"
    }
   ],
   "source": [
    "factor_rank_tile(\n",
    "    returns_dict={\n",
    "        \"Momentum_01\": ret_mom,\n",
    "        \"Momentum_03\": ret_mom3,\n",
    "        \"Momentum_06\": ret_mom6,\n",
    "        \"PE_Low\": ret_pe_low1,\n",
    "        \"PB_Low\": ret_pb_low1,\n",
    "        \"LowVol\": ret_low_vol,\n",
    "        \"HighYield\": ret_high_yield,\n",
    "        \"HighYoY\": ret_high_yoy,\n",
    "        \"RevGrowth\": ret_rev_growth,\n",
    "    },\n",
    "    periods=12,\n",
    "    freq=\"M\",   # 也可以改 \"W\" 或 \"Y\"\n",
    "    title=\"Factors Monthly Ranking (Last 12 months)\"\n",
    ")\n"
   ]
  },
  {
   "cell_type": "code",
   "execution_count": null,
   "id": "e31d2036",
   "metadata": {},
   "outputs": [],
   "source": []
  },
  {
   "cell_type": "code",
   "execution_count": null,
   "id": "e697edf0",
   "metadata": {},
   "outputs": [
    {
     "data": {
      "text/plain": [
       "Index(['1101', '1102', '1301', '1303', '1314', '1326', '1402', '1434', '1565',\n",
       "       '1605', '2015', '2027', '2227', '2301', '2324', '2327', '2344', '2347',\n",
       "       '2356', '2357', '2376', '2377', '2382', '2408', '2409', '2439', '2441',\n",
       "       '2451', '2456', '2458', '2474', '2492', '2501', '2542', '2548', '2606',\n",
       "       '2849', '2886', '2890', '2915', '3005', '3036', '3045', '3231', '3532',\n",
       "       '3702', '3706', '4904', '4938', '5522', '5534', '5820', '6147', '6176',\n",
       "       '6488', '6505', '8069', '9933', '2404', '8415'],\n",
       "      dtype='object', name='tickers')"
      ]
     },
     "execution_count": 176,
     "metadata": {},
     "output_type": "execute_result"
    }
   ],
   "source": [
    "(high_yield_alpha.loc[\"2020-01-10\"].loc[high_yield_alpha.loc[\"2020-01-10\"]==1]).index"
   ]
  },
  {
   "cell_type": "code",
   "execution_count": null,
   "id": "5e4fc461",
   "metadata": {},
   "outputs": [
    {
     "name": "stderr",
     "output_type": "stream",
     "text": [
      "c:\\Users\\USER\\OneDrive\\桌面\\清大校務基金\\因子投資\\interval_report.py:312: FutureWarning:\n",
      "\n",
      "'M' is deprecated and will be removed in a future version, please use 'ME' instead.\n",
      "\n",
      "c:\\Users\\USER\\OneDrive\\桌面\\清大校務基金\\因子投資\\interval_report.py:337: FutureWarning:\n",
      "\n",
      "Downcasting behavior in `replace` is deprecated and will be removed in a future version. To retain the old behavior, explicitly call `result.infer_objects(copy=False)`. To opt-in to the future behavior, set `pd.set_option('future.no_silent_downcasting', True)`\n",
      "\n"
     ]
    },
    {
     "data": {
      "application/vnd.plotly.v1+json": {
       "config": {
        "plotlyServerURL": "https://plot.ly"
       },
       "data": [
        {
         "colorscale": [
          [
           0,
           "rgb(102,194,165)"
          ],
          [
           0,
           "rgb(102,194,165)"
          ],
          [
           0.14285714285714285,
           "rgb(252,141,98)"
          ],
          [
           0.14285714285714285,
           "rgb(252,141,98)"
          ],
          [
           0.2857142857142857,
           "rgb(141,160,203)"
          ],
          [
           0.2857142857142857,
           "rgb(141,160,203)"
          ],
          [
           0.42857142857142855,
           "rgb(231,138,195)"
          ],
          [
           0.42857142857142855,
           "rgb(231,138,195)"
          ],
          [
           0.5714285714285714,
           "rgb(166,216,84)"
          ],
          [
           0.5714285714285714,
           "rgb(166,216,84)"
          ],
          [
           0.7142857142857143,
           "rgb(255,217,47)"
          ],
          [
           0.7142857142857143,
           "rgb(255,217,47)"
          ],
          [
           0.8571428571428571,
           "rgb(229,196,148)"
          ],
          [
           0.8571428571428571,
           "rgb(229,196,148)"
          ],
          [
           1,
           "rgb(179,179,179)"
          ],
          [
           1,
           "rgb(179,179,179)"
          ]
         ],
         "showscale": false,
         "text": [
          [
           "PB_Low<br>0.82%",
           "RevGrowth<br>-0.57%",
           "Momentum_01<br>3.18%",
           "HighYoY<br>2.13%",
           "PB_Low<br>0.91%",
           "PB_Low<br>5.94%",
           "HighYield<br>-3.82%",
           "HighYoY<br>-1.73%",
           "HighYoY<br>9.10%",
           "HighYoY<br>6.95%",
           "RevGrowth<br>11.73%",
           "Momentum_03<br>8.83%"
          ],
          [
           "PE_Low<br>0.11%",
           "HighYoY<br>-0.69%",
           "PE_Low<br>1.46%",
           "Momentum_03<br>1.45%",
           "HighYield<br>0.88%",
           "PE_Low<br>4.94%",
           "PE_Low<br>-7.33%",
           "Momentum_01<br>-2.23%",
           "RevGrowth<br>7.44%",
           "Momentum_01<br>5.06%",
           "HighYoY<br>7.84%",
           "Momentum_01<br>7.94%"
          ],
          [
           "LowVol<br>-0.08%",
           "PE_Low<br>-2.12%",
           "HighYoY<br>0.75%",
           "Momentum_01<br>0.91%",
           "LowVol<br>0.84%",
           "HighYield<br>4.61%",
           "PB_Low<br>-7.40%",
           "PE_Low<br>-2.74%",
           "Momentum_01<br>7.23%",
           "RevGrowth<br>3.37%",
           "Momentum_03<br>7.16%",
           "HighYoY<br>7.48%"
          ],
          [
           "HighYield<br>-0.56%",
           "Momentum_01<br>-2.59%",
           "LowVol<br>0.30%",
           "PE_Low<br>0.26%",
           "RevGrowth<br>0.72%",
           "RevGrowth<br>3.36%",
           "LowVol<br>-7.69%",
           "HighYield<br>-2.95%",
           "PE_Low<br>5.49%",
           "Momentum_03<br>2.42%",
           "PB_Low<br>5.06%",
           "RevGrowth<br>5.05%"
          ],
          [
           "Momentum_01<br>-2.89%",
           "HighYield<br>-2.82%",
           "Momentum_03<br>-0.51%",
           "RevGrowth<br>-0.72%",
           "Momentum_01<br>-0.10%",
           "LowVol<br>2.09%",
           "Momentum_01<br>-9.10%",
           "LowVol<br>-3.07%",
           "LowVol<br>4.47%",
           "PE_Low<br>0.23%",
           "Momentum_01<br>4.50%",
           "PB_Low<br>2.71%"
          ],
          [
           "Momentum_03<br>-3.01%",
           "Momentum_03<br>-3.32%",
           "PB_Low<br>-0.75%",
           "HighYield<br>-0.91%",
           "Momentum_03<br>-0.40%",
           "HighYoY<br>0.98%",
           "Momentum_03<br>-10.19%",
           "RevGrowth<br>-3.40%",
           "HighYield<br>4.40%",
           "PB_Low<br>-0.65%",
           "LowVol<br>4.45%",
           "PE_Low<br>2.38%"
          ],
          [
           "HighYoY<br>-3.19%",
           "LowVol<br>-3.34%",
           "RevGrowth<br>-0.87%",
           "LowVol<br>-2.33%",
           "PE_Low<br>-0.50%",
           "Momentum_01<br>0.92%",
           "HighYoY<br>-11.20%",
           "Momentum_03<br>-3.70%",
           "PB_Low<br>4.03%",
           "HighYield<br>-1.60%",
           "PE_Low<br>3.51%",
           "LowVol<br>1.69%"
          ],
          [
           "RevGrowth<br>-5.29%",
           "PB_Low<br>-3.57%",
           "HighYield<br>-1.92%",
           "PB_Low<br>-3.74%",
           "HighYoY<br>-0.80%",
           "Momentum_03<br>0.38%",
           "RevGrowth<br>-11.24%",
           "PB_Low<br>-3.76%",
           "Momentum_03<br>3.25%",
           "LowVol<br>-1.61%",
           "HighYield<br>2.52%",
           "HighYield<br>1.08%"
          ]
         ],
         "textfont": {
          "color": "black",
          "size": 5
         },
         "texttemplate": "%{text}",
         "type": "heatmap",
         "x": [
          "2024-09",
          "2024-10",
          "2024-11",
          "2024-12",
          "2025-01",
          "2025-02",
          "2025-03",
          "2025-04",
          "2025-05",
          "2025-06",
          "2025-07",
          "2025-08"
         ],
         "xgap": 0,
         "y": [
          1,
          2,
          3,
          4,
          5,
          6,
          7,
          8
         ],
         "ygap": 0,
         "z": [
          [
           5,
           7,
           3,
           1,
           5,
           5,
           0,
           1,
           1,
           1,
           7,
           4
          ],
          [
           6,
           1,
           6,
           4,
           0,
           6,
           6,
           3,
           7,
           3,
           1,
           3
          ],
          [
           2,
           6,
           1,
           3,
           2,
           0,
           5,
           6,
           3,
           7,
           4,
           1
          ],
          [
           0,
           3,
           2,
           6,
           7,
           7,
           2,
           0,
           6,
           4,
           5,
           7
          ],
          [
           3,
           0,
           4,
           7,
           3,
           2,
           3,
           2,
           2,
           6,
           3,
           5
          ],
          [
           4,
           4,
           5,
           0,
           4,
           1,
           4,
           7,
           0,
           5,
           2,
           6
          ],
          [
           1,
           2,
           7,
           2,
           6,
           3,
           1,
           4,
           5,
           0,
           6,
           2
          ],
          [
           7,
           5,
           0,
           5,
           1,
           4,
           7,
           5,
           4,
           2,
           0,
           0
          ]
         ],
         "zmax": 7,
         "zmin": 0
        }
       ],
       "layout": {
        "height": 360,
        "margin": {
         "b": 40,
         "l": 40,
         "r": 40,
         "t": 70
        },
        "paper_bgcolor": "white",
        "plot_bgcolor": "white",
        "template": {
         "data": {
          "bar": [
           {
            "error_x": {
             "color": "#2a3f5f"
            },
            "error_y": {
             "color": "#2a3f5f"
            },
            "marker": {
             "line": {
              "color": "#E5ECF6",
              "width": 0.5
             },
             "pattern": {
              "fillmode": "overlay",
              "size": 10,
              "solidity": 0.2
             }
            },
            "type": "bar"
           }
          ],
          "barpolar": [
           {
            "marker": {
             "line": {
              "color": "#E5ECF6",
              "width": 0.5
             },
             "pattern": {
              "fillmode": "overlay",
              "size": 10,
              "solidity": 0.2
             }
            },
            "type": "barpolar"
           }
          ],
          "carpet": [
           {
            "aaxis": {
             "endlinecolor": "#2a3f5f",
             "gridcolor": "white",
             "linecolor": "white",
             "minorgridcolor": "white",
             "startlinecolor": "#2a3f5f"
            },
            "baxis": {
             "endlinecolor": "#2a3f5f",
             "gridcolor": "white",
             "linecolor": "white",
             "minorgridcolor": "white",
             "startlinecolor": "#2a3f5f"
            },
            "type": "carpet"
           }
          ],
          "choropleth": [
           {
            "colorbar": {
             "outlinewidth": 0,
             "ticks": ""
            },
            "type": "choropleth"
           }
          ],
          "contour": [
           {
            "colorbar": {
             "outlinewidth": 0,
             "ticks": ""
            },
            "colorscale": [
             [
              0,
              "#0d0887"
             ],
             [
              0.1111111111111111,
              "#46039f"
             ],
             [
              0.2222222222222222,
              "#7201a8"
             ],
             [
              0.3333333333333333,
              "#9c179e"
             ],
             [
              0.4444444444444444,
              "#bd3786"
             ],
             [
              0.5555555555555556,
              "#d8576b"
             ],
             [
              0.6666666666666666,
              "#ed7953"
             ],
             [
              0.7777777777777778,
              "#fb9f3a"
             ],
             [
              0.8888888888888888,
              "#fdca26"
             ],
             [
              1,
              "#f0f921"
             ]
            ],
            "type": "contour"
           }
          ],
          "contourcarpet": [
           {
            "colorbar": {
             "outlinewidth": 0,
             "ticks": ""
            },
            "type": "contourcarpet"
           }
          ],
          "heatmap": [
           {
            "colorbar": {
             "outlinewidth": 0,
             "ticks": ""
            },
            "colorscale": [
             [
              0,
              "#0d0887"
             ],
             [
              0.1111111111111111,
              "#46039f"
             ],
             [
              0.2222222222222222,
              "#7201a8"
             ],
             [
              0.3333333333333333,
              "#9c179e"
             ],
             [
              0.4444444444444444,
              "#bd3786"
             ],
             [
              0.5555555555555556,
              "#d8576b"
             ],
             [
              0.6666666666666666,
              "#ed7953"
             ],
             [
              0.7777777777777778,
              "#fb9f3a"
             ],
             [
              0.8888888888888888,
              "#fdca26"
             ],
             [
              1,
              "#f0f921"
             ]
            ],
            "type": "heatmap"
           }
          ],
          "heatmapgl": [
           {
            "colorbar": {
             "outlinewidth": 0,
             "ticks": ""
            },
            "colorscale": [
             [
              0,
              "#0d0887"
             ],
             [
              0.1111111111111111,
              "#46039f"
             ],
             [
              0.2222222222222222,
              "#7201a8"
             ],
             [
              0.3333333333333333,
              "#9c179e"
             ],
             [
              0.4444444444444444,
              "#bd3786"
             ],
             [
              0.5555555555555556,
              "#d8576b"
             ],
             [
              0.6666666666666666,
              "#ed7953"
             ],
             [
              0.7777777777777778,
              "#fb9f3a"
             ],
             [
              0.8888888888888888,
              "#fdca26"
             ],
             [
              1,
              "#f0f921"
             ]
            ],
            "type": "heatmapgl"
           }
          ],
          "histogram": [
           {
            "marker": {
             "pattern": {
              "fillmode": "overlay",
              "size": 10,
              "solidity": 0.2
             }
            },
            "type": "histogram"
           }
          ],
          "histogram2d": [
           {
            "colorbar": {
             "outlinewidth": 0,
             "ticks": ""
            },
            "colorscale": [
             [
              0,
              "#0d0887"
             ],
             [
              0.1111111111111111,
              "#46039f"
             ],
             [
              0.2222222222222222,
              "#7201a8"
             ],
             [
              0.3333333333333333,
              "#9c179e"
             ],
             [
              0.4444444444444444,
              "#bd3786"
             ],
             [
              0.5555555555555556,
              "#d8576b"
             ],
             [
              0.6666666666666666,
              "#ed7953"
             ],
             [
              0.7777777777777778,
              "#fb9f3a"
             ],
             [
              0.8888888888888888,
              "#fdca26"
             ],
             [
              1,
              "#f0f921"
             ]
            ],
            "type": "histogram2d"
           }
          ],
          "histogram2dcontour": [
           {
            "colorbar": {
             "outlinewidth": 0,
             "ticks": ""
            },
            "colorscale": [
             [
              0,
              "#0d0887"
             ],
             [
              0.1111111111111111,
              "#46039f"
             ],
             [
              0.2222222222222222,
              "#7201a8"
             ],
             [
              0.3333333333333333,
              "#9c179e"
             ],
             [
              0.4444444444444444,
              "#bd3786"
             ],
             [
              0.5555555555555556,
              "#d8576b"
             ],
             [
              0.6666666666666666,
              "#ed7953"
             ],
             [
              0.7777777777777778,
              "#fb9f3a"
             ],
             [
              0.8888888888888888,
              "#fdca26"
             ],
             [
              1,
              "#f0f921"
             ]
            ],
            "type": "histogram2dcontour"
           }
          ],
          "mesh3d": [
           {
            "colorbar": {
             "outlinewidth": 0,
             "ticks": ""
            },
            "type": "mesh3d"
           }
          ],
          "parcoords": [
           {
            "line": {
             "colorbar": {
              "outlinewidth": 0,
              "ticks": ""
             }
            },
            "type": "parcoords"
           }
          ],
          "pie": [
           {
            "automargin": true,
            "type": "pie"
           }
          ],
          "scatter": [
           {
            "fillpattern": {
             "fillmode": "overlay",
             "size": 10,
             "solidity": 0.2
            },
            "type": "scatter"
           }
          ],
          "scatter3d": [
           {
            "line": {
             "colorbar": {
              "outlinewidth": 0,
              "ticks": ""
             }
            },
            "marker": {
             "colorbar": {
              "outlinewidth": 0,
              "ticks": ""
             }
            },
            "type": "scatter3d"
           }
          ],
          "scattercarpet": [
           {
            "marker": {
             "colorbar": {
              "outlinewidth": 0,
              "ticks": ""
             }
            },
            "type": "scattercarpet"
           }
          ],
          "scattergeo": [
           {
            "marker": {
             "colorbar": {
              "outlinewidth": 0,
              "ticks": ""
             }
            },
            "type": "scattergeo"
           }
          ],
          "scattergl": [
           {
            "marker": {
             "colorbar": {
              "outlinewidth": 0,
              "ticks": ""
             }
            },
            "type": "scattergl"
           }
          ],
          "scattermapbox": [
           {
            "marker": {
             "colorbar": {
              "outlinewidth": 0,
              "ticks": ""
             }
            },
            "type": "scattermapbox"
           }
          ],
          "scatterpolar": [
           {
            "marker": {
             "colorbar": {
              "outlinewidth": 0,
              "ticks": ""
             }
            },
            "type": "scatterpolar"
           }
          ],
          "scatterpolargl": [
           {
            "marker": {
             "colorbar": {
              "outlinewidth": 0,
              "ticks": ""
             }
            },
            "type": "scatterpolargl"
           }
          ],
          "scatterternary": [
           {
            "marker": {
             "colorbar": {
              "outlinewidth": 0,
              "ticks": ""
             }
            },
            "type": "scatterternary"
           }
          ],
          "surface": [
           {
            "colorbar": {
             "outlinewidth": 0,
             "ticks": ""
            },
            "colorscale": [
             [
              0,
              "#0d0887"
             ],
             [
              0.1111111111111111,
              "#46039f"
             ],
             [
              0.2222222222222222,
              "#7201a8"
             ],
             [
              0.3333333333333333,
              "#9c179e"
             ],
             [
              0.4444444444444444,
              "#bd3786"
             ],
             [
              0.5555555555555556,
              "#d8576b"
             ],
             [
              0.6666666666666666,
              "#ed7953"
             ],
             [
              0.7777777777777778,
              "#fb9f3a"
             ],
             [
              0.8888888888888888,
              "#fdca26"
             ],
             [
              1,
              "#f0f921"
             ]
            ],
            "type": "surface"
           }
          ],
          "table": [
           {
            "cells": {
             "fill": {
              "color": "#EBF0F8"
             },
             "line": {
              "color": "white"
             }
            },
            "header": {
             "fill": {
              "color": "#C8D4E3"
             },
             "line": {
              "color": "white"
             }
            },
            "type": "table"
           }
          ]
         },
         "layout": {
          "annotationdefaults": {
           "arrowcolor": "#2a3f5f",
           "arrowhead": 0,
           "arrowwidth": 1
          },
          "autotypenumbers": "strict",
          "coloraxis": {
           "colorbar": {
            "outlinewidth": 0,
            "ticks": ""
           }
          },
          "colorscale": {
           "diverging": [
            [
             0,
             "#8e0152"
            ],
            [
             0.1,
             "#c51b7d"
            ],
            [
             0.2,
             "#de77ae"
            ],
            [
             0.3,
             "#f1b6da"
            ],
            [
             0.4,
             "#fde0ef"
            ],
            [
             0.5,
             "#f7f7f7"
            ],
            [
             0.6,
             "#e6f5d0"
            ],
            [
             0.7,
             "#b8e186"
            ],
            [
             0.8,
             "#7fbc41"
            ],
            [
             0.9,
             "#4d9221"
            ],
            [
             1,
             "#276419"
            ]
           ],
           "sequential": [
            [
             0,
             "#0d0887"
            ],
            [
             0.1111111111111111,
             "#46039f"
            ],
            [
             0.2222222222222222,
             "#7201a8"
            ],
            [
             0.3333333333333333,
             "#9c179e"
            ],
            [
             0.4444444444444444,
             "#bd3786"
            ],
            [
             0.5555555555555556,
             "#d8576b"
            ],
            [
             0.6666666666666666,
             "#ed7953"
            ],
            [
             0.7777777777777778,
             "#fb9f3a"
            ],
            [
             0.8888888888888888,
             "#fdca26"
            ],
            [
             1,
             "#f0f921"
            ]
           ],
           "sequentialminus": [
            [
             0,
             "#0d0887"
            ],
            [
             0.1111111111111111,
             "#46039f"
            ],
            [
             0.2222222222222222,
             "#7201a8"
            ],
            [
             0.3333333333333333,
             "#9c179e"
            ],
            [
             0.4444444444444444,
             "#bd3786"
            ],
            [
             0.5555555555555556,
             "#d8576b"
            ],
            [
             0.6666666666666666,
             "#ed7953"
            ],
            [
             0.7777777777777778,
             "#fb9f3a"
            ],
            [
             0.8888888888888888,
             "#fdca26"
            ],
            [
             1,
             "#f0f921"
            ]
           ]
          },
          "colorway": [
           "#636efa",
           "#EF553B",
           "#00cc96",
           "#ab63fa",
           "#FFA15A",
           "#19d3f3",
           "#FF6692",
           "#B6E880",
           "#FF97FF",
           "#FECB52"
          ],
          "font": {
           "color": "#2a3f5f"
          },
          "geo": {
           "bgcolor": "white",
           "lakecolor": "white",
           "landcolor": "#E5ECF6",
           "showlakes": true,
           "showland": true,
           "subunitcolor": "white"
          },
          "hoverlabel": {
           "align": "left"
          },
          "hovermode": "closest",
          "mapbox": {
           "style": "light"
          },
          "paper_bgcolor": "white",
          "plot_bgcolor": "#E5ECF6",
          "polar": {
           "angularaxis": {
            "gridcolor": "white",
            "linecolor": "white",
            "ticks": ""
           },
           "bgcolor": "#E5ECF6",
           "radialaxis": {
            "gridcolor": "white",
            "linecolor": "white",
            "ticks": ""
           }
          },
          "scene": {
           "xaxis": {
            "backgroundcolor": "#E5ECF6",
            "gridcolor": "white",
            "gridwidth": 2,
            "linecolor": "white",
            "showbackground": true,
            "ticks": "",
            "zerolinecolor": "white"
           },
           "yaxis": {
            "backgroundcolor": "#E5ECF6",
            "gridcolor": "white",
            "gridwidth": 2,
            "linecolor": "white",
            "showbackground": true,
            "ticks": "",
            "zerolinecolor": "white"
           },
           "zaxis": {
            "backgroundcolor": "#E5ECF6",
            "gridcolor": "white",
            "gridwidth": 2,
            "linecolor": "white",
            "showbackground": true,
            "ticks": "",
            "zerolinecolor": "white"
           }
          },
          "shapedefaults": {
           "line": {
            "color": "#2a3f5f"
           }
          },
          "ternary": {
           "aaxis": {
            "gridcolor": "white",
            "linecolor": "white",
            "ticks": ""
           },
           "baxis": {
            "gridcolor": "white",
            "linecolor": "white",
            "ticks": ""
           },
           "bgcolor": "#E5ECF6",
           "caxis": {
            "gridcolor": "white",
            "linecolor": "white",
            "ticks": ""
           }
          },
          "title": {
           "x": 0.05
          },
          "xaxis": {
           "automargin": true,
           "gridcolor": "white",
           "linecolor": "white",
           "ticks": "",
           "title": {
            "standoff": 15
           },
           "zerolinecolor": "white",
           "zerolinewidth": 2
          },
          "yaxis": {
           "automargin": true,
           "gridcolor": "white",
           "linecolor": "white",
           "ticks": "",
           "title": {
            "standoff": 15
           },
           "zerolinecolor": "white",
           "zerolinewidth": 2
          }
         }
        },
        "title": {
         "text": "Factor Ranking — Last 12 Periods",
         "x": 0.5
        },
        "xaxis": {
         "tickmode": "array",
         "tickvals": [
          "2024-09",
          "2024-10",
          "2024-11",
          "2024-12",
          "2025-01",
          "2025-02",
          "2025-03",
          "2025-04",
          "2025-05",
          "2025-06",
          "2025-07",
          "2025-08"
         ],
         "title": {}
        },
        "yaxis": {
         "autorange": "reversed",
         "dtick": 1,
         "title": {
          "text": "Rank"
         }
        }
       }
      }
     },
     "metadata": {},
     "output_type": "display_data"
    }
   ],
   "source": [
    "returns_dict = {\n",
    "    \"Momentum_01\": ret_mom,\n",
    "    \"Momentum_03\": ret_mom3,\n",
    "    \"PE_Low\":      ret_pe_low1,\n",
    "    \"PB_Low\":      ret_pb_low1,\n",
    "    \"LowVol\":      ret_low_vol,\n",
    "    \"HighYield\":   ret_high_yield,\n",
    "    \"HighYoY\":     ret_high_yoy,\n",
    "    \"RevGrowth\":   ret_rev_growth,\n",
    "}\n",
    "\n",
    "_ = factor_rank_tile_full(\n",
    "    returns_dict=returns_dict,\n",
    "    periods=12,\n",
    "    freq=\"M\",                   # \"M\" / \"W\" / \"Y\"\n",
    "    \n",
    "    text_size=5,              \n",
    "    # save_html=\"factor_rank_last12_months.html\",\n",
    ")\n"
   ]
  },
  {
   "cell_type": "code",
   "execution_count": null,
   "id": "f24fc249",
   "metadata": {},
   "outputs": [],
   "source": []
  },
  {
   "cell_type": "markdown",
   "id": "f47d1b8d",
   "metadata": {},
   "source": [
    "##### "
   ]
  },
  {
   "cell_type": "code",
   "execution_count": null,
   "id": "27fcc142",
   "metadata": {},
   "outputs": [],
   "source": [
    "# internship、project detail，including github clear\n",
    "\n",
    "# come up with reasearch plan\n",
    "\n",
    "# grad school course plan\n",
    "\n",
    "#@@@@@@@@@@@@@@@@@@@@@@@@@@@@@@@@@@@@@@@@@@@@@@@ email to prof manager\n",
    "\n",
    "# motivation \n",
    "\n",
    "# conclusion \n",
    "\n",
    "\n",
    "\n"
   ]
  },
  {
   "cell_type": "code",
   "execution_count": null,
   "id": "5e88e2d7",
   "metadata": {},
   "outputs": [],
   "source": []
  },
  {
   "cell_type": "code",
   "execution_count": null,
   "id": "584ed6d5",
   "metadata": {},
   "outputs": [],
   "source": []
  },
  {
   "cell_type": "code",
   "execution_count": null,
   "id": "3aab2e23",
   "metadata": {},
   "outputs": [],
   "source": []
  },
  {
   "cell_type": "code",
   "execution_count": null,
   "id": "65376e0c",
   "metadata": {},
   "outputs": [],
   "source": []
  },
  {
   "cell_type": "code",
   "execution_count": 127,
   "id": "1bccfd4d",
   "metadata": {},
   "outputs": [],
   "source": [
    "import pandas as pd\n",
    "import numpy as np\n",
    "import matplotlib.pyplot as plt\n",
    "\n",
    "def stock_perf_report(price_df: pd.DataFrame, start_date: str, end_date: str, tickers: list[str]):\n",
    "    \"\"\"\n",
    "    在指定區間(start_date~end_date)針對多檔股票畫出累積報酬率走勢，\n",
    "    並計算年化報酬、波動率、Sharpe ratio。\n",
    "    \n",
    "    Parameters\n",
    "    ----------\n",
    "    price_df : pd.DataFrame\n",
    "        index = 日期 (DatetimeIndex 或 string 可轉換)，columns = 股票代號 (str)\n",
    "    start_date : str (e.g. \"2020-01-01\")\n",
    "    end_date   : str (e.g. \"2024-01-01\")\n",
    "    tickers    : list[str]  股票代號\n",
    "    \n",
    "    Returns\n",
    "    -------\n",
    "    stats_df : pd.DataFrame\n",
    "        各股票的績效指標 (年化報酬、波動率、Sharpe)\n",
    "    \"\"\"\n",
    "    # 區間切片\n",
    "    px = price_df.loc[start_date:end_date, tickers].dropna(how=\"all\")\n",
    "\n",
    "    # 日報酬率\n",
    "    ret = px.pct_change().dropna()\n",
    "\n",
    "    # 累積報酬\n",
    "    cum_ret = (1 + ret).cumprod() - 1\n",
    "\n",
    "    # 假設一年252個交易日\n",
    "    ann_ret = (1 + ret.mean())**252 - 1\n",
    "    ann_vol = ret.std() * np.sqrt(252)\n",
    "    sharpe  = ann_ret / ann_vol\n",
    "\n",
    "    stats_df = pd.DataFrame({\n",
    "        \"Annual Return\": ann_ret,\n",
    "        \"Annual Volatility\": ann_vol,\n",
    "        \"Sharpe Ratio\": sharpe\n",
    "    })\n",
    "\n",
    "    # 繪圖\n",
    "    plt.figure(figsize=(10, 6))\n",
    "    for t in tickers:\n",
    "        plt.plot(cum_ret.index, cum_ret[t], label=t, linewidth=2)\n",
    "    plt.title(f\"Stock Performance {start_date} ~ {end_date}\", fontsize=14)\n",
    "    plt.xlabel(\"Date\")\n",
    "    plt.ylabel(\"Cumulative Return\")\n",
    "    plt.legend()\n",
    "    plt.grid(alpha=0.3)\n",
    "    plt.tight_layout()\n",
    "    plt.show()\n",
    "\n",
    "    return stats_df\n"
   ]
  },
  {
   "cell_type": "code",
   "execution_count": null,
   "id": "edba5693",
   "metadata": {},
   "outputs": [],
   "source": []
  },
  {
   "cell_type": "code",
   "execution_count": 133,
   "id": "eb3b427f",
   "metadata": {},
   "outputs": [
    {
     "data": {
      "image/png": "[encoded data removed]",
      "text/plain": [
       "<Figure size 1000x600 with 1 Axes>"
      ]
     },
     "metadata": {},
     "output_type": "display_data"
    },
    {
     "name": "stdout",
     "output_type": "stream",
     "text": [
      "         Annual Return  Annual Volatility  Sharpe Ratio\n",
      "tickers                                                \n",
      "1560          0.513767           0.417711      1.229957\n",
      "2330          0.353959           0.290528      1.218331\n"
     ]
    }
   ],
   "source": [
    "# 假設你的價錢 DataFrame 名叫 `p`\n",
    "stats = stock_perf_report(\n",
    "    price_df=price,\n",
    "    start_date=\"2020-01-01\",\n",
    "    end_date=\"2025-01-01\",\n",
    "    tickers=[\"1560\" ,\"2330\"]\n",
    ")\n",
    "\n",
    "print(stats)\n",
    "\n"
   ]
  },
  {
   "cell_type": "code",
   "execution_count": null,
   "id": "79c1f2aa",
   "metadata": {},
   "outputs": [],
   "source": []
  },
  {
   "cell_type": "code",
   "execution_count": null,
   "id": "00fce158",
   "metadata": {},
   "outputs": [],
   "source": []
  }
 ],
 "metadata": {
  "kernelspec": {
   "display_name": "base",
   "language": "python",
   "name": "python3"
  },
  "language_info": {
   "codemirror_mode": {
    "name": "ipython",
    "version": 3
   },
   "file_extension": ".py",
   "mimetype": "text/x-python",
   "name": "python",
   "nbconvert_exporter": "python",
   "pygments_lexer": "ipython3",
   "version": "3.11.7"
  }
 },
 "nbformat": 4,
 "nbformat_minor": 5
}
